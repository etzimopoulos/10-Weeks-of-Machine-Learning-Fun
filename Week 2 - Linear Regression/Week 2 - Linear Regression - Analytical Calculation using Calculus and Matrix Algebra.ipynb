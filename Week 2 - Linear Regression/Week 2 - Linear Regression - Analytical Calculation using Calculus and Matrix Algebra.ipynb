{
 "cells": [
  {
   "cell_type": "markdown",
   "metadata": {},
   "source": [
    "# Import Libraries"
   ]
  },
  {
   "cell_type": "code",
   "execution_count": 1,
   "metadata": {},
   "outputs": [],
   "source": [
    "import numpy as np\n",
    "import pandas as pd\n",
    "from numpy import array\n",
    "from numpy.linalg import inv\n",
    "from matplotlib import pyplot as plt\n",
    "from scipy import stats\n",
    "\n"
   ]
  },
  {
   "cell_type": "markdown",
   "metadata": {},
   "source": [
    "# A. Solve using Analytical Calculus - Random data points"
   ]
  },
  {
   "cell_type": "markdown",
   "metadata": {},
   "source": [
    "## Create random X and y samples"
   ]
  },
  {
   "cell_type": "code",
   "execution_count": 2,
   "metadata": {},
   "outputs": [
    {
     "data": {
      "text/html": [
       "<div>\n",
       "<style scoped>\n",
       "    .dataframe tbody tr th:only-of-type {\n",
       "        vertical-align: middle;\n",
       "    }\n",
       "\n",
       "    .dataframe tbody tr th {\n",
       "        vertical-align: top;\n",
       "    }\n",
       "\n",
       "    .dataframe thead th {\n",
       "        text-align: right;\n",
       "    }\n",
       "</style>\n",
       "<table border=\"1\" class=\"dataframe\">\n",
       "  <thead>\n",
       "    <tr style=\"text-align: right;\">\n",
       "      <th></th>\n",
       "      <th>X</th>\n",
       "      <th>y</th>\n",
       "      <th>RegL</th>\n",
       "    </tr>\n",
       "  </thead>\n",
       "  <tbody>\n",
       "    <tr>\n",
       "      <th>0</th>\n",
       "      <td>7.089975</td>\n",
       "      <td>5.879228</td>\n",
       "      <td>4.981491</td>\n",
       "    </tr>\n",
       "    <tr>\n",
       "      <th>1</th>\n",
       "      <td>0.665079</td>\n",
       "      <td>2.274799</td>\n",
       "      <td>2.732778</td>\n",
       "    </tr>\n",
       "    <tr>\n",
       "      <th>2</th>\n",
       "      <td>1.841888</td>\n",
       "      <td>1.681392</td>\n",
       "      <td>3.144661</td>\n",
       "    </tr>\n",
       "    <tr>\n",
       "      <th>3</th>\n",
       "      <td>2.488494</td>\n",
       "      <td>2.718577</td>\n",
       "      <td>3.370973</td>\n",
       "    </tr>\n",
       "    <tr>\n",
       "      <th>4</th>\n",
       "      <td>3.906150</td>\n",
       "      <td>4.622433</td>\n",
       "      <td>3.867153</td>\n",
       "    </tr>\n",
       "  </tbody>\n",
       "</table>\n",
       "</div>"
      ],
      "text/plain": [
       "          X         y      RegL\n",
       "0  7.089975  5.879228  4.981491\n",
       "1  0.665079  2.274799  2.732778\n",
       "2  1.841888  1.681392  3.144661\n",
       "3  2.488494  2.718577  3.370973\n",
       "4  3.906150  4.622433  3.867153"
      ]
     },
     "execution_count": 2,
     "metadata": {},
     "output_type": "execute_result"
    }
   ],
   "source": [
    "# Generate 'random' data\n",
    "#np.random.seed(1)\n",
    "\n",
    "# Number of Samples\n",
    "n = 100\n",
    "\n",
    "# Create r and r1, random vectors of 100 numbers each with mean = 0 and standard deviation = 1\n",
    "r = np.random.randn(n)\n",
    "r1 = np.random.randn(n)\n",
    "\n",
    "# Create random Input vector X using r\n",
    "# mean = 3\n",
    "# stddev = 2\n",
    "X = 3 * r + 2\n",
    "\n",
    "# Create random Residual term Res using r\n",
    "# mean = 0.8\n",
    "# stddev = 0\n",
    "res = 0.8 * r1 \n",
    "\n",
    "# Generate Y values based on the simulated regression line and error/noise\n",
    "# Population Regression Line\n",
    "yreg = 2.5 + 0.35 * X \n",
    "# Adding noise/error\n",
    "y = yreg + res                  \n",
    "\n",
    "# Storing Population Regression Line \"RegL\", data points X and y in a data frame\n",
    "rl = pd.DataFrame(\n",
    "    {'X': X,\n",
    "     'y': y,\n",
    "     'RegL':yreg}\n",
    ")\n",
    "\n",
    "# Show the first five rows of our dataframe\n",
    "rl.head()"
   ]
  },
  {
   "cell_type": "code",
   "execution_count": 31,
   "metadata": {},
   "outputs": [
    {
     "data": {
      "text/plain": [
       "array([ 7.08997503,  0.66507927,  1.84188808,  2.4884938 ,  3.90615043,\n",
       "        3.37268401,  3.25046392,  0.44394661,  0.20289257,  2.31254935,\n",
       "       -4.40659048,  0.13376398, -1.43654692,  4.40324508,  3.79237582,\n",
       "       -0.24795457,  1.11539252, -1.62714564,  1.20277676,  7.88495349,\n",
       "        1.21156351,  1.07060344,  2.98136316,  8.26527958,  5.02113359,\n",
       "        7.02455834,  0.79898261, -1.54979793, -2.02674964, -0.29685292,\n",
       "        3.68946925, -2.56033355,  0.58478513, -1.20146379,  3.12502912,\n",
       "        4.31836739,  3.84883417,  0.68585399,  2.53317128,  2.5567204 ,\n",
       "        3.55226918,  1.39839595,  3.21341524,  2.80972075,  6.19947044,\n",
       "        4.9635085 ,  5.02104401, -0.43813813,  2.26493705,  2.63508223,\n",
       "        3.14553045,  3.36349636,  0.28248702,  0.76015585,  6.53379877,\n",
       "        6.38466504,  1.77885109,  0.76016743,  1.3945886 ,  6.77130273,\n",
       "       -2.05142227,  3.9179255 ,  1.84179833,  3.40124209, -2.4909929 ,\n",
       "        1.92288875,  0.14237398,  2.0154445 , -1.14470796,  4.00913154,\n",
       "        3.71181783,  2.27124045,  2.93709386,  2.50663528,  2.12220586,\n",
       "       -0.66992898,  2.91309011, -1.58683834, -3.2282974 , 10.58645642,\n",
       "       -0.22746304,  2.09871618,  0.33430695,  3.67373194, -0.78119388,\n",
       "        3.94272931, -2.38248838, -5.75798158,  1.68819641,  7.85025088,\n",
       "        3.70493671,  3.44255236, -1.89990333,  3.690058  ,  0.28266288,\n",
       "        1.49101842,  1.65031471,  5.39854484, -1.71619281,  3.64756695])"
      ]
     },
     "execution_count": 31,
     "metadata": {},
     "output_type": "execute_result"
    }
   ],
   "source": [
    "x_test = rl['X'].values\n",
    "x_test"
   ]
  },
  {
   "cell_type": "markdown",
   "metadata": {},
   "source": [
    "## Calculate coefficients alpha and beta"
   ]
  },
  {
   "cell_type": "code",
   "execution_count": 3,
   "metadata": {},
   "outputs": [
    {
     "name": "stdout",
     "output_type": "stream",
     "text": [
      "alpha = 0.4070117523955547\n",
      "beta = 2.3003475720281745\n"
     ]
    }
   ],
   "source": [
    "# Assuming y = aX + b\n",
    "# a ~ alpha\n",
    "# b ~ beta\n",
    "\n",
    "# Calculate the mean of X and y\n",
    "xmean = np.mean(X)\n",
    "ymean = np.mean(y)\n",
    "\n",
    "# Calculate the terms needed for the numator and denominator of alpha\n",
    "rl['CovXY'] = (rl['X'] - xmean) * (rl['y'] - ymean)\n",
    "rl['VarX'] = (rl['X'] - xmean)**2\n",
    "\n",
    "# Calculate alpha\n",
    "# Numerator: Covariance between X and y\n",
    "# Denominator: Variance of X\n",
    "alpha = rl['CovXY'].sum() / rl['VarX'].sum()\n",
    "\n",
    "# Calculate beta\n",
    "beta = ymean - (alpha * xmean)\n",
    "print('alpha =', alpha)\n",
    "print('beta =',beta)"
   ]
  },
  {
   "cell_type": "code",
   "execution_count": 27,
   "metadata": {},
   "outputs": [
    {
     "data": {
      "text/plain": [
       "array([ 7.08997503,  0.66507927,  1.84188808,  2.4884938 ,  3.90615043,\n",
       "        3.37268401,  3.25046392,  0.44394661,  0.20289257,  2.31254935,\n",
       "       -4.40659048,  0.13376398, -1.43654692,  4.40324508,  3.79237582,\n",
       "       -0.24795457,  1.11539252, -1.62714564,  1.20277676,  7.88495349,\n",
       "        1.21156351,  1.07060344,  2.98136316,  8.26527958,  5.02113359,\n",
       "        7.02455834,  0.79898261, -1.54979793, -2.02674964, -0.29685292,\n",
       "        3.68946925, -2.56033355,  0.58478513, -1.20146379,  3.12502912,\n",
       "        4.31836739,  3.84883417,  0.68585399,  2.53317128,  2.5567204 ,\n",
       "        3.55226918,  1.39839595,  3.21341524,  2.80972075,  6.19947044,\n",
       "        4.9635085 ,  5.02104401, -0.43813813,  2.26493705,  2.63508223,\n",
       "        3.14553045,  3.36349636,  0.28248702,  0.76015585,  6.53379877,\n",
       "        6.38466504,  1.77885109,  0.76016743,  1.3945886 ,  6.77130273,\n",
       "       -2.05142227,  3.9179255 ,  1.84179833,  3.40124209, -2.4909929 ,\n",
       "        1.92288875,  0.14237398,  2.0154445 , -1.14470796,  4.00913154,\n",
       "        3.71181783,  2.27124045,  2.93709386,  2.50663528,  2.12220586,\n",
       "       -0.66992898,  2.91309011, -1.58683834, -3.2282974 , 10.58645642,\n",
       "       -0.22746304,  2.09871618,  0.33430695,  3.67373194, -0.78119388,\n",
       "        3.94272931, -2.38248838, -5.75798158,  1.68819641,  7.85025088,\n",
       "        3.70493671,  3.44255236, -1.89990333,  3.690058  ,  0.28266288,\n",
       "        1.49101842,  1.65031471,  5.39854484, -1.71619281,  3.64756695])"
      ]
     },
     "execution_count": 27,
     "metadata": {},
     "output_type": "execute_result"
    }
   ],
   "source": [
    "X"
   ]
  },
  {
   "cell_type": "markdown",
   "metadata": {},
   "source": [
    "## Prediction - Least Squares Line"
   ]
  },
  {
   "cell_type": "code",
   "execution_count": 4,
   "metadata": {},
   "outputs": [],
   "source": [
    "ypred = alpha * X + beta"
   ]
  },
  {
   "cell_type": "markdown",
   "metadata": {},
   "source": [
    "## Calculate Model Metrics - RSS, RSE(σ), TSS and R^2 Statistic"
   ]
  },
  {
   "cell_type": "code",
   "execution_count": 5,
   "metadata": {},
   "outputs": [
    {
     "name": "stdout",
     "output_type": "stream",
     "text": [
      "Residual Sum of Squares (RSS) is: 61.56932954094504\n",
      "\n",
      "Residual Standar Error (Standard Deviation σ) is: 0.7926275699870153\n",
      "\n",
      "Total Sum of Squares (TSS) is: 196.60153210855484\n",
      "\n",
      " R2 Statistic is: 0.6868318935228382\n"
     ]
    }
   ],
   "source": [
    "# Residual Errors\n",
    "RE = (rl['y'] - ypred)**2\n",
    "#Residual Sum Squares\n",
    "RSS = RE.sum()\n",
    "print(\"Residual Sum of Squares (RSS) is:\",RSS)\n",
    "\n",
    "# Estimated Standard Variation (sigma) or RSE\n",
    "RSE = np.sqrt(RSS/(n-2))\n",
    "print(\"\\nResidual Standar Error (Standard Deviation σ) is:\",RSE)\n",
    "\n",
    "# Total Sum of squares (TSS)\n",
    "TE = (rl['y'] - ymean)**2\n",
    "# Total Sum Squares\n",
    "TSS = TE.sum()\n",
    "print(\"\\nTotal Sum of Squares (TSS) is:\",TSS)\n",
    "\n",
    "# R^2 Statistic\n",
    "R2 = 1 - RSS/TSS\n",
    "print(\"\\n R2 Statistic is:\",R2)"
   ]
  },
  {
   "cell_type": "markdown",
   "metadata": {},
   "source": [
    "## Assessing Coefficients accuracy"
   ]
  },
  {
   "cell_type": "code",
   "execution_count": 6,
   "metadata": {},
   "outputs": [],
   "source": [
    "# Degrees of freedom\n",
    "df = 2*n - 2\n",
    "\n",
    "# Standard error, t-Statistic and  p-value for Slope \"alpha\" coefficient\n",
    "SE_alpha = np.sqrt(RSE**2/rl['VarX'].sum())\n",
    "t_alpha = alpha/SE_alpha\n",
    "p_alpha = 1 - stats.t.cdf(t_alpha,df=df)\n",
    "\n",
    "# Standard error, t-Statistic and  p-value for Intercept \"beta\" coefficient\n",
    "SE_beta = np.sqrt(RSE*(1/n + xmean**2/(rl['VarX'].sum())))\n",
    "t_beta = beta/SE_beta \n",
    "p_beta = 1 - stats.t.cdf(t_beta,df=df)"
   ]
  },
  {
   "cell_type": "markdown",
   "metadata": {},
   "source": [
    "## Coefficients Assessment Summary"
   ]
  },
  {
   "cell_type": "code",
   "execution_count": 7,
   "metadata": {},
   "outputs": [
    {
     "data": {
      "text/html": [
       "<div>\n",
       "<style scoped>\n",
       "    .dataframe tbody tr th:only-of-type {\n",
       "        vertical-align: middle;\n",
       "    }\n",
       "\n",
       "    .dataframe tbody tr th {\n",
       "        vertical-align: top;\n",
       "    }\n",
       "\n",
       "    .dataframe thead th {\n",
       "        text-align: right;\n",
       "    }\n",
       "</style>\n",
       "<table border=\"1\" class=\"dataframe\">\n",
       "  <thead>\n",
       "    <tr style=\"text-align: right;\">\n",
       "      <th></th>\n",
       "      <th>Name</th>\n",
       "      <th>Coefficient</th>\n",
       "      <th>RSE</th>\n",
       "      <th>t-Statistic</th>\n",
       "      <th>p-Value</th>\n",
       "    </tr>\n",
       "  </thead>\n",
       "  <tbody>\n",
       "    <tr>\n",
       "      <th>0</th>\n",
       "      <td>Slope (alpha)</td>\n",
       "      <td>0.407012</td>\n",
       "      <td>0.027762</td>\n",
       "      <td>14.660524</td>\n",
       "      <td>0.0</td>\n",
       "    </tr>\n",
       "    <tr>\n",
       "      <th>1</th>\n",
       "      <td>Intercept (beta)</td>\n",
       "      <td>2.300348</td>\n",
       "      <td>0.109154</td>\n",
       "      <td>21.074359</td>\n",
       "      <td>0.0</td>\n",
       "    </tr>\n",
       "  </tbody>\n",
       "</table>\n",
       "</div>"
      ],
      "text/plain": [
       "               Name  Coefficient       RSE  t-Statistic  p-Value\n",
       "0     Slope (alpha)     0.407012  0.027762    14.660524      0.0\n",
       "1  Intercept (beta)     2.300348  0.109154    21.074359      0.0"
      ]
     },
     "execution_count": 7,
     "metadata": {},
     "output_type": "execute_result"
    }
   ],
   "source": [
    "# Assessment of Coefficients\n",
    "mds = pd.DataFrame(\n",
    "    {'Name':['Slope (alpha)', 'Intercept (beta)'],\n",
    "     'Coefficient': [alpha, beta],\n",
    "     'RSE':[SE_alpha, SE_beta],\n",
    "     't-Statistic':[t_alpha, t_beta],\n",
    "     'p-Value':[p_alpha, p_beta]\n",
    "    }\n",
    ")\n",
    "mds"
   ]
  },
  {
   "cell_type": "code",
   "execution_count": null,
   "metadata": {},
   "outputs": [],
   "source": []
  },
  {
   "cell_type": "markdown",
   "metadata": {},
   "source": [
    "## Model Assessment Summary"
   ]
  },
  {
   "cell_type": "code",
   "execution_count": 8,
   "metadata": {},
   "outputs": [
    {
     "data": {
      "text/html": [
       "<div>\n",
       "<style scoped>\n",
       "    .dataframe tbody tr th:only-of-type {\n",
       "        vertical-align: middle;\n",
       "    }\n",
       "\n",
       "    .dataframe tbody tr th {\n",
       "        vertical-align: top;\n",
       "    }\n",
       "\n",
       "    .dataframe thead th {\n",
       "        text-align: right;\n",
       "    }\n",
       "</style>\n",
       "<table border=\"1\" class=\"dataframe\">\n",
       "  <thead>\n",
       "    <tr style=\"text-align: right;\">\n",
       "      <th></th>\n",
       "      <th>Residual Sum of Squares (RSS)</th>\n",
       "      <th>RSE (Standard Deviation σ)</th>\n",
       "      <th>Total Sum of Squares (TSS)</th>\n",
       "      <th>R2 Statistic</th>\n",
       "    </tr>\n",
       "  </thead>\n",
       "  <tbody>\n",
       "    <tr>\n",
       "      <th>0</th>\n",
       "      <td>61.56933</td>\n",
       "      <td>0.792628</td>\n",
       "      <td>196.601532</td>\n",
       "      <td>0.686832</td>\n",
       "    </tr>\n",
       "  </tbody>\n",
       "</table>\n",
       "</div>"
      ],
      "text/plain": [
       "   Residual Sum of Squares (RSS)  RSE (Standard Deviation σ)  \\\n",
       "0                       61.56933                    0.792628   \n",
       "\n",
       "   Total Sum of Squares (TSS)  R2 Statistic  \n",
       "0                  196.601532      0.686832  "
      ]
     },
     "execution_count": 8,
     "metadata": {},
     "output_type": "execute_result"
    }
   ],
   "source": [
    "# Model Assessment - Storing all key indicators in dummy data frame with range 1\n",
    "ms = pd.DataFrame(\n",
    "    {'Ref': range(0,1),\n",
    "     'Residual Sum of Squares (RSS)': RSS,\n",
    "     'RSE (Standard Deviation σ)': RSE,\n",
    "     'Total Sum of Squares (TSS)': TSS,\n",
    "     'R2 Statistic': R2\n",
    "     }\n",
    ")\n",
    "\n",
    "# Cut out the dummy index column to see the Results\n",
    "ms.iloc[:,1:9]    "
   ]
  },
  {
   "cell_type": "markdown",
   "metadata": {},
   "source": [
    "## Plot Predicted vs Actual vs Sampled Data"
   ]
  },
  {
   "cell_type": "code",
   "execution_count": 9,
   "metadata": {},
   "outputs": [
    {
     "data": {
      "text/plain": [
       "<matplotlib.legend.Legend at 0x7f9167ab6290>"
      ]
     },
     "execution_count": 9,
     "metadata": {},
     "output_type": "execute_result"
    },
    {
     "data": {
      "image/png": "[encoded data removed]",
      "text/plain": [
       "<Figure size 864x432 with 1 Axes>"
      ]
     },
     "metadata": {
      "needs_background": "light"
     },
     "output_type": "display_data"
    }
   ],
   "source": [
    "\n",
    "# Plot regression against actual data\n",
    "plt.figure(figsize=(12, 6))\n",
    "# Population Regression Line\n",
    "plt.plot(X,rl['RegL'], label = 'Actual (Population Regression Line)',color='green')\n",
    "# Least squares line\n",
    "plt.plot(X, ypred, label = 'Predicted (Least Squares Line)', color='blue')     \n",
    "# scatter plot showing actual data\n",
    "plt.plot(X, y, 'ro', label ='Collected data')   \n",
    "plt.title('Method A - Least Squares - Actual vs Predicted')\n",
    "plt.xlabel('X')\n",
    "plt.ylabel('y')\n",
    "plt.legend()\n",
    "#plt.show()"
   ]
  },
  {
   "cell_type": "markdown",
   "metadata": {},
   "source": [
    "# B. Solve using Matrix Algebra - Fixed data points"
   ]
  },
  {
   "cell_type": "markdown",
   "metadata": {},
   "source": [
    "## Create and Format Data"
   ]
  },
  {
   "cell_type": "code",
   "execution_count": 10,
   "metadata": {},
   "outputs": [],
   "source": [
    "# Reuse the same random inputs created above but reformated to Matrices\n",
    "X1 = np.matrix([np.ones(n), rl['X']]).T\n",
    "y1 = np.matrix(rl['y']).T"
   ]
  },
  {
   "cell_type": "markdown",
   "metadata": {},
   "source": [
    "## Solve for projection matrix"
   ]
  },
  {
   "cell_type": "code",
   "execution_count": 11,
   "metadata": {},
   "outputs": [
    {
     "name": "stdout",
     "output_type": "stream",
     "text": [
      "b (bias/Y intercept) = 2.300347572028174 , and m (slope) = 0.4070117523955547\n"
     ]
    }
   ],
   "source": [
    "A = np.linalg.inv(X1.T.dot(X1)).dot(X1.T).dot(y1)\n",
    "\n",
    "m = A[1].item()\n",
    "b = A[0].item()\n",
    "\n",
    "print(\"b (bias/Y intercept) =\",b,\", and m (slope) =\",m)"
   ]
  },
  {
   "cell_type": "code",
   "execution_count": 12,
   "metadata": {},
   "outputs": [
    {
     "data": {
      "text/plain": [
       "matrix([[0.40701175]])"
      ]
     },
     "execution_count": 12,
     "metadata": {},
     "output_type": "execute_result"
    }
   ],
   "source": [
    "A[1]"
   ]
  },
  {
   "cell_type": "code",
   "execution_count": 13,
   "metadata": {},
   "outputs": [
    {
     "data": {
      "text/plain": [
       "0.4070117523955547"
      ]
     },
     "execution_count": 13,
     "metadata": {},
     "output_type": "execute_result"
    }
   ],
   "source": [
    "m"
   ]
  },
  {
   "cell_type": "code",
   "execution_count": 14,
   "metadata": {},
   "outputs": [
    {
     "data": {
      "text/plain": [
       "2.300347572028174"
      ]
     },
     "execution_count": 14,
     "metadata": {},
     "output_type": "execute_result"
    }
   ],
   "source": [
    "b"
   ]
  },
  {
   "cell_type": "code",
   "execution_count": 15,
   "metadata": {},
   "outputs": [
    {
     "data": {
      "text/plain": [
       "matrix([[0.66507927]])"
      ]
     },
     "execution_count": 15,
     "metadata": {},
     "output_type": "execute_result"
    }
   ],
   "source": [
    "X1[1].T[1]"
   ]
  },
  {
   "cell_type": "code",
   "execution_count": 16,
   "metadata": {},
   "outputs": [],
   "source": [
    "X1_array = np.squeeze(np.asarray(X1[:].T[1]))"
   ]
  },
  {
   "cell_type": "code",
   "execution_count": 17,
   "metadata": {},
   "outputs": [
    {
     "data": {
      "text/plain": [
       "0.6650792712048645"
      ]
     },
     "execution_count": 17,
     "metadata": {},
     "output_type": "execute_result"
    }
   ],
   "source": [
    "X1_array[1]"
   ]
  },
  {
   "cell_type": "code",
   "execution_count": 18,
   "metadata": {},
   "outputs": [
    {
     "data": {
      "text/plain": [
       "0.6650792712048645"
      ]
     },
     "execution_count": 18,
     "metadata": {},
     "output_type": "execute_result"
    }
   ],
   "source": [
    "X[1]"
   ]
  },
  {
   "cell_type": "code",
   "execution_count": 19,
   "metadata": {},
   "outputs": [
    {
     "data": {
      "text/plain": [
       "5.186050734022236"
      ]
     },
     "execution_count": 19,
     "metadata": {},
     "output_type": "execute_result"
    }
   ],
   "source": [
    "ypred[0]"
   ]
  },
  {
   "cell_type": "markdown",
   "metadata": {},
   "source": [
    "## Plot data and predictions"
   ]
  },
  {
   "cell_type": "code",
   "execution_count": 20,
   "metadata": {},
   "outputs": [],
   "source": [
    "#xx = np.linspace(0, .5, 2)\n",
    "y1pred = b + m * X1"
   ]
  },
  {
   "cell_type": "code",
   "execution_count": 21,
   "metadata": {},
   "outputs": [],
   "source": [
    "y1pred[1].T[1]\n",
    "y1pred_array = np.squeeze(np.asarray(y1pred[:].T[1]))"
   ]
  },
  {
   "cell_type": "code",
   "execution_count": 22,
   "metadata": {},
   "outputs": [
    {
     "data": {
      "text/plain": [
       "matrix([[5.87922772]])"
      ]
     },
     "execution_count": 22,
     "metadata": {},
     "output_type": "execute_result"
    }
   ],
   "source": [
    "y1[0]"
   ]
  },
  {
   "cell_type": "code",
   "execution_count": 23,
   "metadata": {},
   "outputs": [
    {
     "data": {
      "text/plain": [
       "2.274798583895128"
      ]
     },
     "execution_count": 23,
     "metadata": {},
     "output_type": "execute_result"
    }
   ],
   "source": [
    "y1_array = np.squeeze(np.asarray(y1[:]))\n",
    "y1_array[1]"
   ]
  },
  {
   "cell_type": "code",
   "execution_count": 24,
   "metadata": {},
   "outputs": [
    {
     "data": {
      "text/plain": [
       "<matplotlib.legend.Legend at 0x7f91679e50d0>"
      ]
     },
     "execution_count": 24,
     "metadata": {},
     "output_type": "execute_result"
    },
    {
     "data": {
      "text/plain": [
       "<Figure size 432x288 with 0 Axes>"
      ]
     },
     "metadata": {},
     "output_type": "display_data"
    },
    {
     "data": {
      "image/png": "[encoded data removed]",
      "text/plain": [
       "<Figure size 864x432 with 1 Axes>"
      ]
     },
     "metadata": {
      "needs_background": "light"
     },
     "output_type": "display_data"
    }
   ],
   "source": [
    "plt.figure(1)\n",
    "# Plot regression against actual data\n",
    "plt.figure(figsize=(12, 6));\n",
    "# Population Regression Line\n",
    "plt.plot(X1_array,rl['RegL'], label = 'Actual (Population Regression Line)',color='green')\n",
    "# Least squares line\n",
    "plt.plot(X1_array, y1pred_array, label = 'Predicted (Least Squares Line)', color='orange')     \n",
    "# scatter plot showing actual data\n",
    "plt.plot(X1_array, y1_array, 'ro', label ='Collected data')   \n",
    "plt.title('Method B - Normal Equation - Actual vs Predicted')\n",
    "plt.xlabel('X')\n",
    "plt.ylabel('y')\n",
    "plt.legend()\n",
    "#plt.show()\n",
    "\n",
    "\n",
    "#plt.figure(1)\n",
    "#plt.scatter(input[:,0], input[:,1], color='r')\n",
    "#plt.plot(xx, yy.T, color='b')\n",
    "#plt.show()"
   ]
  },
  {
   "cell_type": "code",
   "execution_count": null,
   "metadata": {},
   "outputs": [],
   "source": []
  }
 ],
 "metadata": {
  "kernelspec": {
   "display_name": "Python 3",
   "language": "python",
   "name": "python3"
  },
  "language_info": {
   "codemirror_mode": {
    "name": "ipython",
    "version": 3
   },
   "file_extension": ".py",
   "mimetype": "text/x-python",
   "name": "python",
   "nbconvert_exporter": "python",
   "pygments_lexer": "ipython3",
   "version": "3.7.6"
  }
 },
 "nbformat": 4,
 "nbformat_minor": 2
}
