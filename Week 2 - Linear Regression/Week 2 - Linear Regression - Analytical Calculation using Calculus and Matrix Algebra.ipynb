{
 "cells": [
  {
   "cell_type": "markdown",
   "metadata": {},
   "source": [
    "# Import Libraries"
   ]
  },
  {
   "cell_type": "code",
   "execution_count": 1,
   "metadata": {},
   "outputs": [],
   "source": [
    "import numpy as np\n",
    "import pandas as pd\n",
    "from numpy import array\n",
    "from numpy.linalg import inv\n",
    "from matplotlib import pyplot as plt\n",
    "from scipy import stats\n",
    "\n"
   ]
  },
  {
   "cell_type": "markdown",
   "metadata": {},
   "source": [
    "# A. Solve using Analytical Calculus - Random data points"
   ]
  },
  {
   "cell_type": "markdown",
   "metadata": {},
   "source": [
    "## Create random X and y samples"
   ]
  },
  {
   "cell_type": "code",
   "execution_count": 2,
   "metadata": {},
   "outputs": [
    {
     "data": {
      "text/html": [
       "<div>\n",
       "<style scoped>\n",
       "    .dataframe tbody tr th:only-of-type {\n",
       "        vertical-align: middle;\n",
       "    }\n",
       "\n",
       "    .dataframe tbody tr th {\n",
       "        vertical-align: top;\n",
       "    }\n",
       "\n",
       "    .dataframe thead th {\n",
       "        text-align: right;\n",
       "    }\n",
       "</style>\n",
       "<table border=\"1\" class=\"dataframe\">\n",
       "  <thead>\n",
       "    <tr style=\"text-align: right;\">\n",
       "      <th></th>\n",
       "      <th>X</th>\n",
       "      <th>y</th>\n",
       "      <th>RegL</th>\n",
       "    </tr>\n",
       "  </thead>\n",
       "  <tbody>\n",
       "    <tr>\n",
       "      <th>0</th>\n",
       "      <td>4.564455</td>\n",
       "      <td>3.614327</td>\n",
       "      <td>4.097559</td>\n",
       "    </tr>\n",
       "    <tr>\n",
       "      <th>1</th>\n",
       "      <td>5.448886</td>\n",
       "      <td>4.051832</td>\n",
       "      <td>4.407110</td>\n",
       "    </tr>\n",
       "    <tr>\n",
       "      <th>2</th>\n",
       "      <td>0.775571</td>\n",
       "      <td>2.172854</td>\n",
       "      <td>2.771450</td>\n",
       "    </tr>\n",
       "    <tr>\n",
       "      <th>3</th>\n",
       "      <td>5.068190</td>\n",
       "      <td>4.409517</td>\n",
       "      <td>4.273866</td>\n",
       "    </tr>\n",
       "    <tr>\n",
       "      <th>4</th>\n",
       "      <td>0.553202</td>\n",
       "      <td>2.766314</td>\n",
       "      <td>2.693621</td>\n",
       "    </tr>\n",
       "  </tbody>\n",
       "</table>\n",
       "</div>"
      ],
      "text/plain": [
       "          X         y      RegL\n",
       "0  4.564455  3.614327  4.097559\n",
       "1  5.448886  4.051832  4.407110\n",
       "2  0.775571  2.172854  2.771450\n",
       "3  5.068190  4.409517  4.273866\n",
       "4  0.553202  2.766314  2.693621"
      ]
     },
     "execution_count": 2,
     "metadata": {},
     "output_type": "execute_result"
    }
   ],
   "source": [
    "# Generate 'random' data\n",
    "#np.random.seed(1)\n",
    "\n",
    "# Number of Samples\n",
    "n = 100\n",
    "\n",
    "# Create r and r1, random vectors of 100 numbers each with mean = 0 and standard deviation = 1\n",
    "r = np.random.randn(n)\n",
    "r1 = np.random.randn(n)\n",
    "\n",
    "# Create random Input vector X using r\n",
    "# mean = 3\n",
    "# stddev = 2\n",
    "X = 3 * r + 2\n",
    "\n",
    "# Create random Residual term Res using r\n",
    "# mean = 0.8\n",
    "# stddev = 0\n",
    "res = 0.8 * r1 \n",
    "\n",
    "# Generate Y values based on the simulated regression line and error/noise\n",
    "# Population Regression Line\n",
    "yreg = 2.5 + 0.35 * X \n",
    "# Adding noise/error\n",
    "y = yreg + res                  \n",
    "\n",
    "# Storing Population Regression Line \"RegL\", data points X and y in a data frame\n",
    "rl = pd.DataFrame(\n",
    "    {'X': X,\n",
    "     'y': y,\n",
    "     'RegL':yreg}\n",
    ")\n",
    "\n",
    "# Show the first five rows of our dataframe\n",
    "rl.head()"
   ]
  },
  {
   "cell_type": "code",
   "execution_count": 48,
   "metadata": {},
   "outputs": [
    {
     "data": {
      "text/html": [
       "<div>\n",
       "<style scoped>\n",
       "    .dataframe tbody tr th:only-of-type {\n",
       "        vertical-align: middle;\n",
       "    }\n",
       "\n",
       "    .dataframe tbody tr th {\n",
       "        vertical-align: top;\n",
       "    }\n",
       "\n",
       "    .dataframe thead th {\n",
       "        text-align: right;\n",
       "    }\n",
       "</style>\n",
       "<table border=\"1\" class=\"dataframe\">\n",
       "  <thead>\n",
       "    <tr style=\"text-align: right;\">\n",
       "      <th></th>\n",
       "      <th>X</th>\n",
       "      <th>y</th>\n",
       "    </tr>\n",
       "  </thead>\n",
       "  <tbody>\n",
       "    <tr>\n",
       "      <th>0</th>\n",
       "      <td>4.564455</td>\n",
       "      <td>3.614327</td>\n",
       "    </tr>\n",
       "    <tr>\n",
       "      <th>1</th>\n",
       "      <td>5.448886</td>\n",
       "      <td>4.051832</td>\n",
       "    </tr>\n",
       "    <tr>\n",
       "      <th>2</th>\n",
       "      <td>0.775571</td>\n",
       "      <td>2.172854</td>\n",
       "    </tr>\n",
       "    <tr>\n",
       "      <th>3</th>\n",
       "      <td>5.068190</td>\n",
       "      <td>4.409517</td>\n",
       "    </tr>\n",
       "    <tr>\n",
       "      <th>4</th>\n",
       "      <td>0.553202</td>\n",
       "      <td>2.766314</td>\n",
       "    </tr>\n",
       "  </tbody>\n",
       "</table>\n",
       "</div>"
      ],
      "text/plain": [
       "          X         y\n",
       "0  4.564455  3.614327\n",
       "1  5.448886  4.051832\n",
       "2  0.775571  2.172854\n",
       "3  5.068190  4.409517\n",
       "4  0.553202  2.766314"
      ]
     },
     "execution_count": 48,
     "metadata": {},
     "output_type": "execute_result"
    }
   ],
   "source": [
    "temp = [rl['X'], rl['y']]\n",
    "headers = [\"X\", \"y\"]\n",
    "data = pd. concat(temp, axis=1, keys=headers)\n",
    "\n",
    "#data = pd.concat(rl['X'], rl['y'],axis=1 , keys=['X', 'y'])\n",
    "data.head()"
   ]
  },
  {
   "cell_type": "code",
   "execution_count": 49,
   "metadata": {},
   "outputs": [
    {
     "data": {
      "text/html": [
       "<div>\n",
       "<style scoped>\n",
       "    .dataframe tbody tr th:only-of-type {\n",
       "        vertical-align: middle;\n",
       "    }\n",
       "\n",
       "    .dataframe tbody tr th {\n",
       "        vertical-align: top;\n",
       "    }\n",
       "\n",
       "    .dataframe thead th {\n",
       "        text-align: right;\n",
       "    }\n",
       "</style>\n",
       "<table border=\"1\" class=\"dataframe\">\n",
       "  <thead>\n",
       "    <tr style=\"text-align: right;\">\n",
       "      <th></th>\n",
       "      <th>X</th>\n",
       "      <th>y</th>\n",
       "    </tr>\n",
       "  </thead>\n",
       "  <tbody>\n",
       "    <tr>\n",
       "      <th>0</th>\n",
       "      <td>4.564455</td>\n",
       "      <td>3.614327</td>\n",
       "    </tr>\n",
       "    <tr>\n",
       "      <th>1</th>\n",
       "      <td>5.448886</td>\n",
       "      <td>4.051832</td>\n",
       "    </tr>\n",
       "    <tr>\n",
       "      <th>2</th>\n",
       "      <td>0.775571</td>\n",
       "      <td>2.172854</td>\n",
       "    </tr>\n",
       "    <tr>\n",
       "      <th>3</th>\n",
       "      <td>5.068190</td>\n",
       "      <td>4.409517</td>\n",
       "    </tr>\n",
       "    <tr>\n",
       "      <th>4</th>\n",
       "      <td>0.553202</td>\n",
       "      <td>2.766314</td>\n",
       "    </tr>\n",
       "  </tbody>\n",
       "</table>\n",
       "</div>"
      ],
      "text/plain": [
       "          X         y\n",
       "0  4.564455  3.614327\n",
       "1  5.448886  4.051832\n",
       "2  0.775571  2.172854\n",
       "3  5.068190  4.409517\n",
       "4  0.553202  2.766314"
      ]
     },
     "execution_count": 49,
     "metadata": {},
     "output_type": "execute_result"
    }
   ],
   "source": [
    "X=rl['X'] \n",
    "y=rl['y']\n",
    "#temp = [rl['X'], rl['y']]\n",
    "headers = [\"X\", \"y\"]\n",
    "data = pd.concat([X, y], axis=1, keys=headers)\n",
    "data.head()"
   ]
  },
  {
   "cell_type": "code",
   "execution_count": 53,
   "metadata": {},
   "outputs": [
    {
     "data": {
      "text/html": [
       "<div>\n",
       "<style scoped>\n",
       "    .dataframe tbody tr th:only-of-type {\n",
       "        vertical-align: middle;\n",
       "    }\n",
       "\n",
       "    .dataframe tbody tr th {\n",
       "        vertical-align: top;\n",
       "    }\n",
       "\n",
       "    .dataframe thead th {\n",
       "        text-align: right;\n",
       "    }\n",
       "</style>\n",
       "<table border=\"1\" class=\"dataframe\">\n",
       "  <thead>\n",
       "    <tr style=\"text-align: right;\">\n",
       "      <th></th>\n",
       "      <th>X</th>\n",
       "      <th>y</th>\n",
       "      <th>y_pred</th>\n",
       "    </tr>\n",
       "  </thead>\n",
       "  <tbody>\n",
       "    <tr>\n",
       "      <th>0</th>\n",
       "      <td>4.564455</td>\n",
       "      <td>3.614327</td>\n",
       "      <td>0</td>\n",
       "    </tr>\n",
       "    <tr>\n",
       "      <th>1</th>\n",
       "      <td>5.448886</td>\n",
       "      <td>4.051832</td>\n",
       "      <td>0</td>\n",
       "    </tr>\n",
       "    <tr>\n",
       "      <th>2</th>\n",
       "      <td>0.775571</td>\n",
       "      <td>2.172854</td>\n",
       "      <td>0</td>\n",
       "    </tr>\n",
       "    <tr>\n",
       "      <th>3</th>\n",
       "      <td>5.068190</td>\n",
       "      <td>4.409517</td>\n",
       "      <td>0</td>\n",
       "    </tr>\n",
       "    <tr>\n",
       "      <th>4</th>\n",
       "      <td>0.553202</td>\n",
       "      <td>2.766314</td>\n",
       "      <td>0</td>\n",
       "    </tr>\n",
       "  </tbody>\n",
       "</table>\n",
       "</div>"
      ],
      "text/plain": [
       "          X         y  y_pred\n",
       "0  4.564455  3.614327       0\n",
       "1  5.448886  4.051832       0\n",
       "2  0.775571  2.172854       0\n",
       "3  5.068190  4.409517       0\n",
       "4  0.553202  2.766314       0"
      ]
     },
     "execution_count": 53,
     "metadata": {},
     "output_type": "execute_result"
    }
   ],
   "source": [
    "y_pred = [0]*len(X)\n",
    "data['y_pred']= [0]*len(X)\n",
    "data.head()"
   ]
  },
  {
   "cell_type": "code",
   "execution_count": 3,
   "metadata": {},
   "outputs": [
    {
     "data": {
      "text/plain": [
       "array([ 4.56445455e+00,  5.44888586e+00,  7.75571009e-01,  5.06818994e+00,\n",
       "        5.53202069e-01,  3.52020350e+00, -2.52200274e-02,  6.09395700e+00,\n",
       "        5.10812347e+00,  5.14014849e+00, -2.58959429e+00, -1.52884089e+00,\n",
       "        3.00969405e+00,  1.52904011e+00,  2.26818430e+00,  3.86217909e+00,\n",
       "       -1.02566390e-01,  5.10397436e+00, -1.01470402e+00,  5.25495836e+00,\n",
       "        6.50116119e-01,  4.25016234e+00,  3.31015757e+00,  3.70101534e+00,\n",
       "       -1.44974720e-01,  1.70254928e+00, -2.39441559e+00,  1.14978176e+00,\n",
       "        1.31642434e+00, -2.30002787e-01,  3.54672689e+00,  5.75491069e-01,\n",
       "       -5.67341789e-01,  6.05447272e+00,  6.91281295e+00, -2.70889173e+00,\n",
       "        2.72488898e+00,  7.31828826e-01,  2.50942420e+00, -2.62670184e+00,\n",
       "        1.65416747e+00, -1.39219176e+00, -2.33619536e-03,  6.93415492e+00,\n",
       "        2.42028986e+00,  4.60251846e+00, -2.16778817e+00,  6.14323462e+00,\n",
       "        3.64660045e+00,  6.59314614e+00, -9.28652595e-01,  2.24709792e+00,\n",
       "       -1.37625657e+00,  2.02885723e+00, -2.45664266e+00,  3.91445199e+00,\n",
       "       -1.24264402e+00,  2.89684238e-01, -4.57007299e+00,  1.78649243e+00,\n",
       "        4.21047815e+00,  4.27919146e+00,  1.25123968e+00,  3.11780405e+00,\n",
       "        4.87421584e+00,  3.68681450e+00,  2.43847613e+00,  3.68026379e+00,\n",
       "        1.39371377e+00,  2.11789578e+00,  2.81959105e+00, -2.01933928e+00,\n",
       "       -5.14764444e+00,  1.25973447e+00,  7.47518658e-01,  1.73750950e+00,\n",
       "        3.78019373e+00,  8.36516276e+00,  4.81584528e-01,  2.69657165e+00,\n",
       "        3.62622942e-01,  1.50177830e+00, -1.55585463e+00,  4.52660575e+00,\n",
       "        2.35318225e+00,  3.47163209e+00,  3.40013958e+00,  2.89689992e+00,\n",
       "       -1.84092831e+00, -2.95848841e+00,  4.95805923e+00,  3.27432029e+00,\n",
       "        4.03358702e+00,  2.35257034e+00,  2.16241498e+00,  3.88264003e+00,\n",
       "        5.65546852e+00,  4.13136769e+00,  1.87221883e+00,  1.21226659e+00])"
      ]
     },
     "execution_count": 3,
     "metadata": {},
     "output_type": "execute_result"
    }
   ],
   "source": [
    "x_test = rl['X'].values\n",
    "x_test"
   ]
  },
  {
   "cell_type": "markdown",
   "metadata": {},
   "source": [
    "## Calculate coefficients alpha and beta"
   ]
  },
  {
   "cell_type": "code",
   "execution_count": 4,
   "metadata": {},
   "outputs": [
    {
     "name": "stdout",
     "output_type": "stream",
     "text": [
      "alpha = 0.3243532182183525\n",
      "beta = 2.4969622940605984\n"
     ]
    }
   ],
   "source": [
    "# Assuming y = aX + b\n",
    "# a ~ alpha\n",
    "# b ~ beta\n",
    "\n",
    "# Calculate the mean of X and y\n",
    "xmean = np.mean(X)\n",
    "ymean = np.mean(y)\n",
    "\n",
    "# Calculate the terms needed for the numator and denominator of alpha\n",
    "rl['CovXY'] = (rl['X'] - xmean) * (rl['y'] - ymean)\n",
    "rl['VarX'] = (rl['X'] - xmean)**2\n",
    "\n",
    "# Calculate alpha\n",
    "# Numerator: Covariance between X and y\n",
    "# Denominator: Variance of X\n",
    "alpha = rl['CovXY'].sum() / rl['VarX'].sum()\n",
    "\n",
    "# Calculate beta\n",
    "beta = ymean - (alpha * xmean)\n",
    "print('alpha =', alpha)\n",
    "print('beta =',beta)"
   ]
  },
  {
   "cell_type": "code",
   "execution_count": 5,
   "metadata": {},
   "outputs": [
    {
     "data": {
      "text/plain": [
       "array([ 4.56445455e+00,  5.44888586e+00,  7.75571009e-01,  5.06818994e+00,\n",
       "        5.53202069e-01,  3.52020350e+00, -2.52200274e-02,  6.09395700e+00,\n",
       "        5.10812347e+00,  5.14014849e+00, -2.58959429e+00, -1.52884089e+00,\n",
       "        3.00969405e+00,  1.52904011e+00,  2.26818430e+00,  3.86217909e+00,\n",
       "       -1.02566390e-01,  5.10397436e+00, -1.01470402e+00,  5.25495836e+00,\n",
       "        6.50116119e-01,  4.25016234e+00,  3.31015757e+00,  3.70101534e+00,\n",
       "       -1.44974720e-01,  1.70254928e+00, -2.39441559e+00,  1.14978176e+00,\n",
       "        1.31642434e+00, -2.30002787e-01,  3.54672689e+00,  5.75491069e-01,\n",
       "       -5.67341789e-01,  6.05447272e+00,  6.91281295e+00, -2.70889173e+00,\n",
       "        2.72488898e+00,  7.31828826e-01,  2.50942420e+00, -2.62670184e+00,\n",
       "        1.65416747e+00, -1.39219176e+00, -2.33619536e-03,  6.93415492e+00,\n",
       "        2.42028986e+00,  4.60251846e+00, -2.16778817e+00,  6.14323462e+00,\n",
       "        3.64660045e+00,  6.59314614e+00, -9.28652595e-01,  2.24709792e+00,\n",
       "       -1.37625657e+00,  2.02885723e+00, -2.45664266e+00,  3.91445199e+00,\n",
       "       -1.24264402e+00,  2.89684238e-01, -4.57007299e+00,  1.78649243e+00,\n",
       "        4.21047815e+00,  4.27919146e+00,  1.25123968e+00,  3.11780405e+00,\n",
       "        4.87421584e+00,  3.68681450e+00,  2.43847613e+00,  3.68026379e+00,\n",
       "        1.39371377e+00,  2.11789578e+00,  2.81959105e+00, -2.01933928e+00,\n",
       "       -5.14764444e+00,  1.25973447e+00,  7.47518658e-01,  1.73750950e+00,\n",
       "        3.78019373e+00,  8.36516276e+00,  4.81584528e-01,  2.69657165e+00,\n",
       "        3.62622942e-01,  1.50177830e+00, -1.55585463e+00,  4.52660575e+00,\n",
       "        2.35318225e+00,  3.47163209e+00,  3.40013958e+00,  2.89689992e+00,\n",
       "       -1.84092831e+00, -2.95848841e+00,  4.95805923e+00,  3.27432029e+00,\n",
       "        4.03358702e+00,  2.35257034e+00,  2.16241498e+00,  3.88264003e+00,\n",
       "        5.65546852e+00,  4.13136769e+00,  1.87221883e+00,  1.21226659e+00])"
      ]
     },
     "execution_count": 5,
     "metadata": {},
     "output_type": "execute_result"
    }
   ],
   "source": [
    "X"
   ]
  },
  {
   "cell_type": "markdown",
   "metadata": {},
   "source": [
    "## Prediction - Least Squares Line"
   ]
  },
  {
   "cell_type": "code",
   "execution_count": 6,
   "metadata": {},
   "outputs": [],
   "source": [
    "ypred = alpha * X + beta"
   ]
  },
  {
   "cell_type": "markdown",
   "metadata": {},
   "source": [
    "## Calculate Model Metrics - RSS, RSE(σ), TSS and R^2 Statistic"
   ]
  },
  {
   "cell_type": "code",
   "execution_count": 7,
   "metadata": {},
   "outputs": [
    {
     "name": "stdout",
     "output_type": "stream",
     "text": [
      "Residual Sum of Squares (RSS) is: 61.714786856657994\n",
      "\n",
      "Residual Standar Error (Standard Deviation σ) is: 0.7935633075105744\n",
      "\n",
      "Total Sum of Squares (TSS) is: 139.24516725792157\n",
      "\n",
      " R2 Statistic is: 0.556790457636891\n"
     ]
    }
   ],
   "source": [
    "# Residual Errors\n",
    "RE = (rl['y'] - ypred)**2\n",
    "#Residual Sum Squares\n",
    "RSS = RE.sum()\n",
    "print(\"Residual Sum of Squares (RSS) is:\",RSS)\n",
    "\n",
    "# Estimated Standard Variation (sigma) or RSE\n",
    "RSE = np.sqrt(RSS/(n-2))\n",
    "print(\"\\nResidual Standar Error (Standard Deviation σ) is:\",RSE)\n",
    "\n",
    "# Total Sum of squares (TSS)\n",
    "TE = (rl['y'] - ymean)**2\n",
    "# Total Sum Squares\n",
    "TSS = TE.sum()\n",
    "print(\"\\nTotal Sum of Squares (TSS) is:\",TSS)\n",
    "\n",
    "# R^2 Statistic\n",
    "R2 = 1 - RSS/TSS\n",
    "print(\"\\n R2 Statistic is:\",R2)"
   ]
  },
  {
   "cell_type": "markdown",
   "metadata": {},
   "source": [
    "## Assessing Coefficients accuracy"
   ]
  },
  {
   "cell_type": "code",
   "execution_count": 8,
   "metadata": {},
   "outputs": [],
   "source": [
    "# Degrees of freedom\n",
    "df = 2*n - 2\n",
    "\n",
    "# Standard error, t-Statistic and  p-value for Slope \"alpha\" coefficient\n",
    "SE_alpha = np.sqrt(RSE**2/rl['VarX'].sum())\n",
    "t_alpha = alpha/SE_alpha\n",
    "p_alpha = 1 - stats.t.cdf(t_alpha,df=df)\n",
    "\n",
    "# Standard error, t-Statistic and  p-value for Intercept \"beta\" coefficient\n",
    "SE_beta = np.sqrt(RSE*(1/n + xmean**2/(rl['VarX'].sum())))\n",
    "t_beta = beta/SE_beta \n",
    "p_beta = 1 - stats.t.cdf(t_beta,df=df)"
   ]
  },
  {
   "cell_type": "markdown",
   "metadata": {},
   "source": [
    "## Coefficients Assessment Summary"
   ]
  },
  {
   "cell_type": "code",
   "execution_count": 9,
   "metadata": {},
   "outputs": [
    {
     "data": {
      "text/html": [
       "<div>\n",
       "<style scoped>\n",
       "    .dataframe tbody tr th:only-of-type {\n",
       "        vertical-align: middle;\n",
       "    }\n",
       "\n",
       "    .dataframe tbody tr th {\n",
       "        vertical-align: top;\n",
       "    }\n",
       "\n",
       "    .dataframe thead th {\n",
       "        text-align: right;\n",
       "    }\n",
       "</style>\n",
       "<table border=\"1\" class=\"dataframe\">\n",
       "  <thead>\n",
       "    <tr style=\"text-align: right;\">\n",
       "      <th></th>\n",
       "      <th>Name</th>\n",
       "      <th>Coefficient</th>\n",
       "      <th>RSE</th>\n",
       "      <th>t-Statistic</th>\n",
       "      <th>p-Value</th>\n",
       "    </tr>\n",
       "  </thead>\n",
       "  <tbody>\n",
       "    <tr>\n",
       "      <th>0</th>\n",
       "      <td>Slope (alpha)</td>\n",
       "      <td>0.324353</td>\n",
       "      <td>0.029232</td>\n",
       "      <td>11.095692</td>\n",
       "      <td>0.0</td>\n",
       "    </tr>\n",
       "    <tr>\n",
       "      <th>1</th>\n",
       "      <td>Intercept (beta)</td>\n",
       "      <td>2.496962</td>\n",
       "      <td>0.111056</td>\n",
       "      <td>22.483774</td>\n",
       "      <td>0.0</td>\n",
       "    </tr>\n",
       "  </tbody>\n",
       "</table>\n",
       "</div>"
      ],
      "text/plain": [
       "               Name  Coefficient       RSE  t-Statistic  p-Value\n",
       "0     Slope (alpha)     0.324353  0.029232    11.095692      0.0\n",
       "1  Intercept (beta)     2.496962  0.111056    22.483774      0.0"
      ]
     },
     "execution_count": 9,
     "metadata": {},
     "output_type": "execute_result"
    }
   ],
   "source": [
    "# Assessment of Coefficients\n",
    "mds = pd.DataFrame(\n",
    "    {'Name':['Slope (alpha)', 'Intercept (beta)'],\n",
    "     'Coefficient': [alpha, beta],\n",
    "     'RSE':[SE_alpha, SE_beta],\n",
    "     't-Statistic':[t_alpha, t_beta],\n",
    "     'p-Value':[p_alpha, p_beta]\n",
    "    }\n",
    ")\n",
    "mds"
   ]
  },
  {
   "cell_type": "code",
   "execution_count": null,
   "metadata": {},
   "outputs": [],
   "source": []
  },
  {
   "cell_type": "markdown",
   "metadata": {},
   "source": [
    "## Model Assessment Summary"
   ]
  },
  {
   "cell_type": "code",
   "execution_count": 10,
   "metadata": {},
   "outputs": [
    {
     "data": {
      "text/html": [
       "<div>\n",
       "<style scoped>\n",
       "    .dataframe tbody tr th:only-of-type {\n",
       "        vertical-align: middle;\n",
       "    }\n",
       "\n",
       "    .dataframe tbody tr th {\n",
       "        vertical-align: top;\n",
       "    }\n",
       "\n",
       "    .dataframe thead th {\n",
       "        text-align: right;\n",
       "    }\n",
       "</style>\n",
       "<table border=\"1\" class=\"dataframe\">\n",
       "  <thead>\n",
       "    <tr style=\"text-align: right;\">\n",
       "      <th></th>\n",
       "      <th>Residual Sum of Squares (RSS)</th>\n",
       "      <th>RSE (Standard Deviation σ)</th>\n",
       "      <th>Total Sum of Squares (TSS)</th>\n",
       "      <th>R2 Statistic</th>\n",
       "    </tr>\n",
       "  </thead>\n",
       "  <tbody>\n",
       "    <tr>\n",
       "      <th>0</th>\n",
       "      <td>61.714787</td>\n",
       "      <td>0.793563</td>\n",
       "      <td>139.245167</td>\n",
       "      <td>0.55679</td>\n",
       "    </tr>\n",
       "  </tbody>\n",
       "</table>\n",
       "</div>"
      ],
      "text/plain": [
       "   Residual Sum of Squares (RSS)  RSE (Standard Deviation σ)  \\\n",
       "0                      61.714787                    0.793563   \n",
       "\n",
       "   Total Sum of Squares (TSS)  R2 Statistic  \n",
       "0                  139.245167       0.55679  "
      ]
     },
     "execution_count": 10,
     "metadata": {},
     "output_type": "execute_result"
    }
   ],
   "source": [
    "# Model Assessment - Storing all key indicators in dummy data frame with range 1\n",
    "ms = pd.DataFrame(\n",
    "    {'Ref': range(0,1),\n",
    "     'Residual Sum of Squares (RSS)': RSS,\n",
    "     'RSE (Standard Deviation σ)': RSE,\n",
    "     'Total Sum of Squares (TSS)': TSS,\n",
    "     'R2 Statistic': R2\n",
    "     }\n",
    ")\n",
    "\n",
    "# Cut out the dummy index column to see the Results\n",
    "ms.iloc[:,1:9]    "
   ]
  },
  {
   "cell_type": "markdown",
   "metadata": {},
   "source": [
    "## Plot Predicted vs Actual vs Sampled Data"
   ]
  },
  {
   "cell_type": "code",
   "execution_count": 11,
   "metadata": {},
   "outputs": [
    {
     "data": {
      "text/plain": [
       "<matplotlib.legend.Legend at 0x7f3842771c90>"
      ]
     },
     "execution_count": 11,
     "metadata": {},
     "output_type": "execute_result"
    },
    {
     "data": {
      "image/png": "[encoded data removed]",
      "text/plain": [
       "<Figure size 864x432 with 1 Axes>"
      ]
     },
     "metadata": {
      "needs_background": "light"
     },
     "output_type": "display_data"
    }
   ],
   "source": [
    "\n",
    "# Plot regression against actual data\n",
    "plt.figure(figsize=(12, 6))\n",
    "# Population Regression Line\n",
    "plt.plot(X,rl['RegL'], label = 'Actual (Population Regression Line)',color='green')\n",
    "# Least squares line\n",
    "plt.plot(X, ypred, label = 'Predicted (Least Squares Line)', color='blue')     \n",
    "# scatter plot showing actual data\n",
    "plt.plot(X, y, 'ro', label ='Collected data')   \n",
    "plt.title('Method A - Least Squares - Actual vs Predicted')\n",
    "plt.xlabel('X')\n",
    "plt.ylabel('y')\n",
    "plt.legend()\n",
    "#plt.show()"
   ]
  },
  {
   "cell_type": "markdown",
   "metadata": {},
   "source": [
    "# B. Solve using Matrix Algebra - Fixed data points"
   ]
  },
  {
   "cell_type": "markdown",
   "metadata": {},
   "source": [
    "## Create and Format Data"
   ]
  },
  {
   "cell_type": "code",
   "execution_count": 12,
   "metadata": {},
   "outputs": [],
   "source": [
    "# Reuse the same random inputs created above but reformated to Matrices\n",
    "X1 = np.matrix([np.ones(n), rl['X']]).T\n",
    "y1 = np.matrix(rl['y']).T"
   ]
  },
  {
   "cell_type": "markdown",
   "metadata": {},
   "source": [
    "## Solve for projection matrix"
   ]
  },
  {
   "cell_type": "code",
   "execution_count": 13,
   "metadata": {},
   "outputs": [
    {
     "name": "stdout",
     "output_type": "stream",
     "text": [
      "b (bias/Y intercept) = 2.4969622940605998 , and m (slope) = 0.32435321821835233\n"
     ]
    }
   ],
   "source": [
    "A = np.linalg.inv(X1.T.dot(X1)).dot(X1.T).dot(y1)\n",
    "\n",
    "m = A[1].item()\n",
    "b = A[0].item()\n",
    "\n",
    "print(\"b (bias/Y intercept) =\",b,\", and m (slope) =\",m)"
   ]
  },
  {
   "cell_type": "code",
   "execution_count": 14,
   "metadata": {},
   "outputs": [
    {
     "data": {
      "text/plain": [
       "matrix([[0.32435322]])"
      ]
     },
     "execution_count": 14,
     "metadata": {},
     "output_type": "execute_result"
    }
   ],
   "source": [
    "A[1]"
   ]
  },
  {
   "cell_type": "code",
   "execution_count": 15,
   "metadata": {},
   "outputs": [
    {
     "data": {
      "text/plain": [
       "0.32435321821835233"
      ]
     },
     "execution_count": 15,
     "metadata": {},
     "output_type": "execute_result"
    }
   ],
   "source": [
    "m"
   ]
  },
  {
   "cell_type": "code",
   "execution_count": 16,
   "metadata": {},
   "outputs": [
    {
     "data": {
      "text/plain": [
       "2.4969622940605998"
      ]
     },
     "execution_count": 16,
     "metadata": {},
     "output_type": "execute_result"
    }
   ],
   "source": [
    "b"
   ]
  },
  {
   "cell_type": "code",
   "execution_count": 17,
   "metadata": {},
   "outputs": [
    {
     "data": {
      "text/plain": [
       "matrix([[5.44888586]])"
      ]
     },
     "execution_count": 17,
     "metadata": {},
     "output_type": "execute_result"
    }
   ],
   "source": [
    "X1[1].T[1]"
   ]
  },
  {
   "cell_type": "code",
   "execution_count": 18,
   "metadata": {},
   "outputs": [],
   "source": [
    "X1_array = np.squeeze(np.asarray(X1[:].T[1]))"
   ]
  },
  {
   "cell_type": "code",
   "execution_count": 19,
   "metadata": {},
   "outputs": [
    {
     "data": {
      "text/plain": [
       "5.448885855015297"
      ]
     },
     "execution_count": 19,
     "metadata": {},
     "output_type": "execute_result"
    }
   ],
   "source": [
    "X1_array[1]"
   ]
  },
  {
   "cell_type": "code",
   "execution_count": 20,
   "metadata": {},
   "outputs": [
    {
     "data": {
      "text/plain": [
       "5.448885855015297"
      ]
     },
     "execution_count": 20,
     "metadata": {},
     "output_type": "execute_result"
    }
   ],
   "source": [
    "X[1]"
   ]
  },
  {
   "cell_type": "code",
   "execution_count": 21,
   "metadata": {},
   "outputs": [
    {
     "data": {
      "text/plain": [
       "3.977457817270142"
      ]
     },
     "execution_count": 21,
     "metadata": {},
     "output_type": "execute_result"
    }
   ],
   "source": [
    "ypred[0]"
   ]
  },
  {
   "cell_type": "markdown",
   "metadata": {},
   "source": [
    "## Plot data and predictions"
   ]
  },
  {
   "cell_type": "code",
   "execution_count": 22,
   "metadata": {},
   "outputs": [],
   "source": [
    "#xx = np.linspace(0, .5, 2)\n",
    "y1pred = b + m * X1"
   ]
  },
  {
   "cell_type": "code",
   "execution_count": 23,
   "metadata": {},
   "outputs": [],
   "source": [
    "y1pred[1].T[1]\n",
    "y1pred_array = np.squeeze(np.asarray(y1pred[:].T[1]))"
   ]
  },
  {
   "cell_type": "code",
   "execution_count": 24,
   "metadata": {},
   "outputs": [
    {
     "data": {
      "text/plain": [
       "matrix([[3.61432744]])"
      ]
     },
     "execution_count": 24,
     "metadata": {},
     "output_type": "execute_result"
    }
   ],
   "source": [
    "y1[0]"
   ]
  },
  {
   "cell_type": "code",
   "execution_count": 25,
   "metadata": {},
   "outputs": [
    {
     "data": {
      "text/plain": [
       "4.051831617264854"
      ]
     },
     "execution_count": 25,
     "metadata": {},
     "output_type": "execute_result"
    }
   ],
   "source": [
    "y1_array = np.squeeze(np.asarray(y1[:]))\n",
    "y1_array[1]"
   ]
  },
  {
   "cell_type": "code",
   "execution_count": 26,
   "metadata": {},
   "outputs": [
    {
     "data": {
      "text/plain": [
       "<matplotlib.legend.Legend at 0x7f384256b550>"
      ]
     },
     "execution_count": 26,
     "metadata": {},
     "output_type": "execute_result"
    },
    {
     "data": {
      "text/plain": [
       "<Figure size 432x288 with 0 Axes>"
      ]
     },
     "metadata": {},
     "output_type": "display_data"
    },
    {
     "data": {
      "image/png": "[encoded data removed]",
      "text/plain": [
       "<Figure size 864x432 with 1 Axes>"
      ]
     },
     "metadata": {
      "needs_background": "light"
     },
     "output_type": "display_data"
    }
   ],
   "source": [
    "plt.figure(1)\n",
    "# Plot regression against actual data\n",
    "plt.figure(figsize=(12, 6));\n",
    "# Population Regression Line\n",
    "plt.plot(X1_array,rl['RegL'], label = 'Actual (Population Regression Line)',color='green')\n",
    "# Least squares line\n",
    "plt.plot(X1_array, y1pred_array, label = 'Predicted (Least Squares Line)', color='orange')     \n",
    "# scatter plot showing actual data\n",
    "plt.plot(X1_array, y1_array, 'ro', label ='Collected data')   \n",
    "plt.title('Method B - Normal Equation - Actual vs Predicted')\n",
    "plt.xlabel('X')\n",
    "plt.ylabel('y')\n",
    "plt.legend()\n",
    "#plt.show()\n",
    "\n",
    "\n",
    "#plt.figure(1)\n",
    "#plt.scatter(input[:,0], input[:,1], color='r')\n",
    "#plt.plot(xx, yy.T, color='b')\n",
    "#plt.show()"
   ]
  },
  {
   "cell_type": "code",
   "execution_count": 27,
   "metadata": {},
   "outputs": [
    {
     "data": {
      "text/plain": [
       "(100,)"
      ]
     },
     "execution_count": 27,
     "metadata": {},
     "output_type": "execute_result"
    }
   ],
   "source": [
    "X.shape"
   ]
  },
  {
   "cell_type": "code",
   "execution_count": 28,
   "metadata": {},
   "outputs": [
    {
     "data": {
      "text/plain": [
       "(100, 1)"
      ]
     },
     "execution_count": 28,
     "metadata": {},
     "output_type": "execute_result"
    }
   ],
   "source": [
    "x1=rl['X'].values.reshape(-1, 1)\n",
    "x1.shape"
   ]
  },
  {
   "cell_type": "code",
   "execution_count": 29,
   "metadata": {},
   "outputs": [
    {
     "data": {
      "text/plain": [
       "(100, 1)"
      ]
     },
     "execution_count": 29,
     "metadata": {},
     "output_type": "execute_result"
    }
   ],
   "source": [
    "y1=rl['y'].values.reshape(-1, 1)\n",
    "y1.shape"
   ]
  },
  {
   "cell_type": "code",
   "execution_count": 30,
   "metadata": {},
   "outputs": [
    {
     "data": {
      "text/plain": [
       "array([[ 4.56445455e+00],\n",
       "       [ 5.44888586e+00],\n",
       "       [ 7.75571009e-01],\n",
       "       [ 5.06818994e+00],\n",
       "       [ 5.53202069e-01],\n",
       "       [ 3.52020350e+00],\n",
       "       [-2.52200274e-02],\n",
       "       [ 6.09395700e+00],\n",
       "       [ 5.10812347e+00],\n",
       "       [ 5.14014849e+00],\n",
       "       [-2.58959429e+00],\n",
       "       [-1.52884089e+00],\n",
       "       [ 3.00969405e+00],\n",
       "       [ 1.52904011e+00],\n",
       "       [ 2.26818430e+00],\n",
       "       [ 3.86217909e+00],\n",
       "       [-1.02566390e-01],\n",
       "       [ 5.10397436e+00],\n",
       "       [-1.01470402e+00],\n",
       "       [ 5.25495836e+00],\n",
       "       [ 6.50116119e-01],\n",
       "       [ 4.25016234e+00],\n",
       "       [ 3.31015757e+00],\n",
       "       [ 3.70101534e+00],\n",
       "       [-1.44974720e-01],\n",
       "       [ 1.70254928e+00],\n",
       "       [-2.39441559e+00],\n",
       "       [ 1.14978176e+00],\n",
       "       [ 1.31642434e+00],\n",
       "       [-2.30002787e-01],\n",
       "       [ 3.54672689e+00],\n",
       "       [ 5.75491069e-01],\n",
       "       [-5.67341789e-01],\n",
       "       [ 6.05447272e+00],\n",
       "       [ 6.91281295e+00],\n",
       "       [-2.70889173e+00],\n",
       "       [ 2.72488898e+00],\n",
       "       [ 7.31828826e-01],\n",
       "       [ 2.50942420e+00],\n",
       "       [-2.62670184e+00],\n",
       "       [ 1.65416747e+00],\n",
       "       [-1.39219176e+00],\n",
       "       [-2.33619536e-03],\n",
       "       [ 6.93415492e+00],\n",
       "       [ 2.42028986e+00],\n",
       "       [ 4.60251846e+00],\n",
       "       [-2.16778817e+00],\n",
       "       [ 6.14323462e+00],\n",
       "       [ 3.64660045e+00],\n",
       "       [ 6.59314614e+00],\n",
       "       [-9.28652595e-01],\n",
       "       [ 2.24709792e+00],\n",
       "       [-1.37625657e+00],\n",
       "       [ 2.02885723e+00],\n",
       "       [-2.45664266e+00],\n",
       "       [ 3.91445199e+00],\n",
       "       [-1.24264402e+00],\n",
       "       [ 2.89684238e-01],\n",
       "       [-4.57007299e+00],\n",
       "       [ 1.78649243e+00],\n",
       "       [ 4.21047815e+00],\n",
       "       [ 4.27919146e+00],\n",
       "       [ 1.25123968e+00],\n",
       "       [ 3.11780405e+00],\n",
       "       [ 4.87421584e+00],\n",
       "       [ 3.68681450e+00],\n",
       "       [ 2.43847613e+00],\n",
       "       [ 3.68026379e+00],\n",
       "       [ 1.39371377e+00],\n",
       "       [ 2.11789578e+00],\n",
       "       [ 2.81959105e+00],\n",
       "       [-2.01933928e+00],\n",
       "       [-5.14764444e+00],\n",
       "       [ 1.25973447e+00],\n",
       "       [ 7.47518658e-01],\n",
       "       [ 1.73750950e+00],\n",
       "       [ 3.78019373e+00],\n",
       "       [ 8.36516276e+00],\n",
       "       [ 4.81584528e-01],\n",
       "       [ 2.69657165e+00],\n",
       "       [ 3.62622942e-01],\n",
       "       [ 1.50177830e+00],\n",
       "       [-1.55585463e+00],\n",
       "       [ 4.52660575e+00],\n",
       "       [ 2.35318225e+00],\n",
       "       [ 3.47163209e+00],\n",
       "       [ 3.40013958e+00],\n",
       "       [ 2.89689992e+00],\n",
       "       [-1.84092831e+00],\n",
       "       [-2.95848841e+00],\n",
       "       [ 4.95805923e+00],\n",
       "       [ 3.27432029e+00],\n",
       "       [ 4.03358702e+00],\n",
       "       [ 2.35257034e+00],\n",
       "       [ 2.16241498e+00],\n",
       "       [ 3.88264003e+00],\n",
       "       [ 5.65546852e+00],\n",
       "       [ 4.13136769e+00],\n",
       "       [ 1.87221883e+00],\n",
       "       [ 1.21226659e+00]])"
      ]
     },
     "execution_count": 30,
     "metadata": {},
     "output_type": "execute_result"
    }
   ],
   "source": [
    "rl['X'].values.reshape(-1,1)\n"
   ]
  },
  {
   "cell_type": "markdown",
   "metadata": {},
   "source": [
    "## C. Using SKlearn library"
   ]
  },
  {
   "cell_type": "code",
   "execution_count": 31,
   "metadata": {},
   "outputs": [
    {
     "data": {
      "text/plain": [
       "LinearRegression()"
      ]
     },
     "execution_count": 31,
     "metadata": {},
     "output_type": "execute_result"
    }
   ],
   "source": [
    "from sklearn.linear_model import LinearRegression\n",
    "\n",
    "lr = LinearRegression()\n",
    "lr.fit(X.reshape(-1, 1), y.reshape(-1, 1))"
   ]
  },
  {
   "cell_type": "code",
   "execution_count": 32,
   "metadata": {},
   "outputs": [
    {
     "data": {
      "text/plain": [
       "LinearRegression()"
      ]
     },
     "execution_count": 32,
     "metadata": {},
     "output_type": "execute_result"
    }
   ],
   "source": [
    "lr"
   ]
  },
  {
   "cell_type": "code",
   "execution_count": 33,
   "metadata": {},
   "outputs": [
    {
     "data": {
      "text/plain": [
       "0.3243532182183525"
      ]
     },
     "execution_count": 33,
     "metadata": {},
     "output_type": "execute_result"
    }
   ],
   "source": [
    "lr.coef_[0][0]"
   ]
  },
  {
   "cell_type": "code",
   "execution_count": 34,
   "metadata": {},
   "outputs": [
    {
     "data": {
      "text/plain": [
       "2.4969622940605984"
      ]
     },
     "execution_count": 34,
     "metadata": {},
     "output_type": "execute_result"
    }
   ],
   "source": [
    "lr.intercept_[0]"
   ]
  },
  {
   "cell_type": "code",
   "execution_count": null,
   "metadata": {},
   "outputs": [],
   "source": []
  }
 ],
 "metadata": {
  "kernelspec": {
   "display_name": "Python 3",
   "language": "python",
   "name": "python3"
  },
  "language_info": {
   "codemirror_mode": {
    "name": "ipython",
    "version": 3
   },
   "file_extension": ".py",
   "mimetype": "text/x-python",
   "name": "python",
   "nbconvert_exporter": "python",
   "pygments_lexer": "ipython3",
   "version": "3.7.6"
  }
 },
 "nbformat": 4,
 "nbformat_minor": 2
}
