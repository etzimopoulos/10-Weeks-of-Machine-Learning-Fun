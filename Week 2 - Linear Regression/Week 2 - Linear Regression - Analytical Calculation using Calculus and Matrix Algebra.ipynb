{
 "cells": [
  {
   "cell_type": "markdown",
   "metadata": {},
   "source": [
    "# Import Libraries"
   ]
  },
  {
   "cell_type": "code",
   "execution_count": 1,
   "metadata": {},
   "outputs": [],
   "source": [
    "import numpy as np\n",
    "import pandas as pd\n",
    "from numpy import array\n",
    "from numpy.linalg import inv\n",
    "from matplotlib import pyplot as plt\n",
    "from scipy import stats\n",
    "\n"
   ]
  },
  {
   "cell_type": "markdown",
   "metadata": {},
   "source": [
    "# A. Solve using Analytical Calculus - Random data points"
   ]
  },
  {
   "cell_type": "markdown",
   "metadata": {},
   "source": [
    "## Create random X and y samples"
   ]
  },
  {
   "cell_type": "code",
   "execution_count": 2,
   "metadata": {},
   "outputs": [
    {
     "data": {
      "text/html": [
       "<div>\n",
       "<style scoped>\n",
       "    .dataframe tbody tr th:only-of-type {\n",
       "        vertical-align: middle;\n",
       "    }\n",
       "\n",
       "    .dataframe tbody tr th {\n",
       "        vertical-align: top;\n",
       "    }\n",
       "\n",
       "    .dataframe thead th {\n",
       "        text-align: right;\n",
       "    }\n",
       "</style>\n",
       "<table border=\"1\" class=\"dataframe\">\n",
       "  <thead>\n",
       "    <tr style=\"text-align: right;\">\n",
       "      <th></th>\n",
       "      <th>X</th>\n",
       "      <th>y</th>\n",
       "      <th>RegL</th>\n",
       "    </tr>\n",
       "  </thead>\n",
       "  <tbody>\n",
       "    <tr>\n",
       "      <th>0</th>\n",
       "      <td>-3.217735</td>\n",
       "      <td>1.594868</td>\n",
       "      <td>1.373793</td>\n",
       "    </tr>\n",
       "    <tr>\n",
       "      <th>1</th>\n",
       "      <td>6.542241</td>\n",
       "      <td>5.087116</td>\n",
       "      <td>4.789784</td>\n",
       "    </tr>\n",
       "    <tr>\n",
       "      <th>2</th>\n",
       "      <td>6.046745</td>\n",
       "      <td>4.261719</td>\n",
       "      <td>4.616361</td>\n",
       "    </tr>\n",
       "    <tr>\n",
       "      <th>3</th>\n",
       "      <td>6.588070</td>\n",
       "      <td>4.308420</td>\n",
       "      <td>4.805825</td>\n",
       "    </tr>\n",
       "    <tr>\n",
       "      <th>4</th>\n",
       "      <td>3.202870</td>\n",
       "      <td>4.604946</td>\n",
       "      <td>3.621005</td>\n",
       "    </tr>\n",
       "  </tbody>\n",
       "</table>\n",
       "</div>"
      ],
      "text/plain": [
       "          X         y      RegL\n",
       "0 -3.217735  1.594868  1.373793\n",
       "1  6.542241  5.087116  4.789784\n",
       "2  6.046745  4.261719  4.616361\n",
       "3  6.588070  4.308420  4.805825\n",
       "4  3.202870  4.604946  3.621005"
      ]
     },
     "execution_count": 2,
     "metadata": {},
     "output_type": "execute_result"
    }
   ],
   "source": [
    "# Generate 'random' data\n",
    "#np.random.seed(1)\n",
    "\n",
    "# Number of Samples\n",
    "n = 100\n",
    "\n",
    "# Create r and r1, random vectors of 100 numbers each with mean = 0 and standard deviation = 1\n",
    "r = np.random.randn(n)\n",
    "r1 = np.random.randn(n)\n",
    "\n",
    "# Create random Input vector X using r\n",
    "# mean = 3\n",
    "# stddev = 2\n",
    "X = 3 * r + 2\n",
    "\n",
    "# Create random Residual term Res using r\n",
    "# mean = 0.8\n",
    "# stddev = 0\n",
    "res = 0.8 * r1 \n",
    "\n",
    "# Generate Y values based on the simulated regression line and error/noise\n",
    "# Population Regression Line\n",
    "yreg = 2.5 + 0.35 * X \n",
    "# Adding noise/error\n",
    "y = yreg + res                  \n",
    "\n",
    "# Storing Population Regression Line \"RegL\", data points X and y in a data frame\n",
    "rl = pd.DataFrame(\n",
    "    {'X': X,\n",
    "     'y': y,\n",
    "     'RegL':yreg}\n",
    ")\n",
    "\n",
    "# Show the first five rows of our dataframe\n",
    "rl.head()"
   ]
  },
  {
   "cell_type": "code",
   "execution_count": 3,
   "metadata": {},
   "outputs": [
    {
     "data": {
      "text/plain": [
       "array([-3.21773478,  6.54224083,  6.04674467,  6.58807042,  3.20287027,\n",
       "        0.21505692,  5.97113003,  7.53648557,  0.15950567,  3.71411503,\n",
       "        0.59959959,  2.03819697,  2.40783939,  4.31934853, -1.49210045,\n",
       "       -3.09996767,  2.83250586,  2.2265424 ,  0.31545748,  1.99596981,\n",
       "        0.59684377,  3.9158365 ,  3.41663216, -1.78278886,  6.42702178,\n",
       "       -1.16313385, -3.55948015,  3.20380373,  2.5009336 , -1.3499713 ,\n",
       "       -2.86008123,  3.98790983,  1.90686875,  9.73712972, -0.18697477,\n",
       "        1.27495216,  1.68413037, -0.82968165,  1.40466519, -4.04950668,\n",
       "        3.43030064,  2.83777226,  6.91137665, -1.20213701, -0.58837816,\n",
       "        3.64689423,  2.39594282,  2.64324378,  1.83736461, -3.26950171,\n",
       "       -0.06522559,  0.91576437,  1.56778323,  0.94978001,  1.55499676,\n",
       "        2.83621514,  2.53876968, -0.7717093 , -0.0697165 ,  4.97100036,\n",
       "        5.21237527,  4.08611728,  1.82527988,  0.45894765, -2.57019098,\n",
       "       -0.17273954, -2.30666951,  4.54424082, -2.43852328,  4.62578172,\n",
       "        5.1314154 , -2.83832367,  3.37443728,  1.76332486,  2.41988412,\n",
       "        3.97558159,  1.12042303,  5.43649297, -1.09121608,  1.76266507,\n",
       "        5.50623373,  4.88632471,  4.33286138,  4.12679426,  0.20996884,\n",
       "        3.0689724 ,  1.8404167 ,  0.17918541,  5.42316476,  0.96894729,\n",
       "        2.73198638,  5.01363529, -3.53846299,  3.28081038, -1.56187348,\n",
       "       -0.15274124,  4.17337469, -2.06411783,  5.37597937, -1.28207246])"
      ]
     },
     "execution_count": 3,
     "metadata": {},
     "output_type": "execute_result"
    }
   ],
   "source": [
    "x_test = rl['X'].values\n",
    "x_test"
   ]
  },
  {
   "cell_type": "markdown",
   "metadata": {},
   "source": [
    "## Calculate coefficients alpha and beta"
   ]
  },
  {
   "cell_type": "code",
   "execution_count": 4,
   "metadata": {},
   "outputs": [
    {
     "name": "stdout",
     "output_type": "stream",
     "text": [
      "alpha = 0.3100701112634193\n",
      "beta = 2.5503152115035483\n"
     ]
    }
   ],
   "source": [
    "# Assuming y = aX + b\n",
    "# a ~ alpha\n",
    "# b ~ beta\n",
    "\n",
    "# Calculate the mean of X and y\n",
    "xmean = np.mean(X)\n",
    "ymean = np.mean(y)\n",
    "\n",
    "# Calculate the terms needed for the numator and denominator of alpha\n",
    "rl['CovXY'] = (rl['X'] - xmean) * (rl['y'] - ymean)\n",
    "rl['VarX'] = (rl['X'] - xmean)**2\n",
    "\n",
    "# Calculate alpha\n",
    "# Numerator: Covariance between X and y\n",
    "# Denominator: Variance of X\n",
    "alpha = rl['CovXY'].sum() / rl['VarX'].sum()\n",
    "\n",
    "# Calculate beta\n",
    "beta = ymean - (alpha * xmean)\n",
    "print('alpha =', alpha)\n",
    "print('beta =',beta)"
   ]
  },
  {
   "cell_type": "code",
   "execution_count": 5,
   "metadata": {},
   "outputs": [
    {
     "data": {
      "text/plain": [
       "array([-3.21773478,  6.54224083,  6.04674467,  6.58807042,  3.20287027,\n",
       "        0.21505692,  5.97113003,  7.53648557,  0.15950567,  3.71411503,\n",
       "        0.59959959,  2.03819697,  2.40783939,  4.31934853, -1.49210045,\n",
       "       -3.09996767,  2.83250586,  2.2265424 ,  0.31545748,  1.99596981,\n",
       "        0.59684377,  3.9158365 ,  3.41663216, -1.78278886,  6.42702178,\n",
       "       -1.16313385, -3.55948015,  3.20380373,  2.5009336 , -1.3499713 ,\n",
       "       -2.86008123,  3.98790983,  1.90686875,  9.73712972, -0.18697477,\n",
       "        1.27495216,  1.68413037, -0.82968165,  1.40466519, -4.04950668,\n",
       "        3.43030064,  2.83777226,  6.91137665, -1.20213701, -0.58837816,\n",
       "        3.64689423,  2.39594282,  2.64324378,  1.83736461, -3.26950171,\n",
       "       -0.06522559,  0.91576437,  1.56778323,  0.94978001,  1.55499676,\n",
       "        2.83621514,  2.53876968, -0.7717093 , -0.0697165 ,  4.97100036,\n",
       "        5.21237527,  4.08611728,  1.82527988,  0.45894765, -2.57019098,\n",
       "       -0.17273954, -2.30666951,  4.54424082, -2.43852328,  4.62578172,\n",
       "        5.1314154 , -2.83832367,  3.37443728,  1.76332486,  2.41988412,\n",
       "        3.97558159,  1.12042303,  5.43649297, -1.09121608,  1.76266507,\n",
       "        5.50623373,  4.88632471,  4.33286138,  4.12679426,  0.20996884,\n",
       "        3.0689724 ,  1.8404167 ,  0.17918541,  5.42316476,  0.96894729,\n",
       "        2.73198638,  5.01363529, -3.53846299,  3.28081038, -1.56187348,\n",
       "       -0.15274124,  4.17337469, -2.06411783,  5.37597937, -1.28207246])"
      ]
     },
     "execution_count": 5,
     "metadata": {},
     "output_type": "execute_result"
    }
   ],
   "source": [
    "X"
   ]
  },
  {
   "cell_type": "markdown",
   "metadata": {},
   "source": [
    "## Prediction - Least Squares Line"
   ]
  },
  {
   "cell_type": "code",
   "execution_count": 6,
   "metadata": {},
   "outputs": [],
   "source": [
    "ypred = alpha * X + beta"
   ]
  },
  {
   "cell_type": "markdown",
   "metadata": {},
   "source": [
    "## Calculate Model Metrics - RSS, RSE(σ), TSS and R^2 Statistic"
   ]
  },
  {
   "cell_type": "code",
   "execution_count": 7,
   "metadata": {},
   "outputs": [
    {
     "name": "stdout",
     "output_type": "stream",
     "text": [
      "Residual Sum of Squares (RSS) is: 59.78785061906892\n",
      "\n",
      "Residual Standar Error (Standard Deviation σ) is: 0.7810762500280277\n",
      "\n",
      "Total Sum of Squares (TSS) is: 140.10286550844663\n",
      "\n",
      " R2 Statistic is: 0.5732574747697478\n"
     ]
    }
   ],
   "source": [
    "# Residual Errors\n",
    "RE = (rl['y'] - ypred)**2\n",
    "#Residual Sum Squares\n",
    "RSS = RE.sum()\n",
    "print(\"Residual Sum of Squares (RSS) is:\",RSS)\n",
    "\n",
    "# Estimated Standard Variation (sigma) or RSE\n",
    "RSE = np.sqrt(RSS/(n-2))\n",
    "print(\"\\nResidual Standar Error (Standard Deviation σ) is:\",RSE)\n",
    "\n",
    "# Total Sum of squares (TSS)\n",
    "TE = (rl['y'] - ymean)**2\n",
    "# Total Sum Squares\n",
    "TSS = TE.sum()\n",
    "print(\"\\nTotal Sum of Squares (TSS) is:\",TSS)\n",
    "\n",
    "# R^2 Statistic\n",
    "R2 = 1 - RSS/TSS\n",
    "print(\"\\n R2 Statistic is:\",R2)"
   ]
  },
  {
   "cell_type": "markdown",
   "metadata": {},
   "source": [
    "## Assessing Coefficients accuracy"
   ]
  },
  {
   "cell_type": "code",
   "execution_count": 8,
   "metadata": {},
   "outputs": [],
   "source": [
    "# Degrees of freedom\n",
    "df = 2*n - 2\n",
    "\n",
    "# Standard error, t-Statistic and  p-value for Slope \"alpha\" coefficient\n",
    "SE_alpha = np.sqrt(RSE**2/rl['VarX'].sum())\n",
    "t_alpha = alpha/SE_alpha\n",
    "p_alpha = 1 - stats.t.cdf(t_alpha,df=df)\n",
    "\n",
    "# Standard error, t-Statistic and  p-value for Intercept \"beta\" coefficient\n",
    "SE_beta = np.sqrt(RSE*(1/n + xmean**2/(rl['VarX'].sum())))\n",
    "t_beta = beta/SE_beta \n",
    "p_beta = 1 - stats.t.cdf(t_beta,df=df)"
   ]
  },
  {
   "cell_type": "markdown",
   "metadata": {},
   "source": [
    "## Coefficients Assessment Summary"
   ]
  },
  {
   "cell_type": "code",
   "execution_count": 9,
   "metadata": {},
   "outputs": [
    {
     "data": {
      "text/html": [
       "<div>\n",
       "<style scoped>\n",
       "    .dataframe tbody tr th:only-of-type {\n",
       "        vertical-align: middle;\n",
       "    }\n",
       "\n",
       "    .dataframe tbody tr th {\n",
       "        vertical-align: top;\n",
       "    }\n",
       "\n",
       "    .dataframe thead th {\n",
       "        text-align: right;\n",
       "    }\n",
       "</style>\n",
       "<table border=\"1\" class=\"dataframe\">\n",
       "  <thead>\n",
       "    <tr style=\"text-align: right;\">\n",
       "      <th></th>\n",
       "      <th>Name</th>\n",
       "      <th>Coefficient</th>\n",
       "      <th>RSE</th>\n",
       "      <th>t-Statistic</th>\n",
       "      <th>p-Value</th>\n",
       "    </tr>\n",
       "  </thead>\n",
       "  <tbody>\n",
       "    <tr>\n",
       "      <th>0</th>\n",
       "      <td>Slope (alpha)</td>\n",
       "      <td>0.310070</td>\n",
       "      <td>0.027024</td>\n",
       "      <td>11.473738</td>\n",
       "      <td>0.0</td>\n",
       "    </tr>\n",
       "    <tr>\n",
       "      <th>1</th>\n",
       "      <td>Intercept (beta)</td>\n",
       "      <td>2.550315</td>\n",
       "      <td>0.104618</td>\n",
       "      <td>24.377354</td>\n",
       "      <td>0.0</td>\n",
       "    </tr>\n",
       "  </tbody>\n",
       "</table>\n",
       "</div>"
      ],
      "text/plain": [
       "               Name  Coefficient       RSE  t-Statistic  p-Value\n",
       "0     Slope (alpha)     0.310070  0.027024    11.473738      0.0\n",
       "1  Intercept (beta)     2.550315  0.104618    24.377354      0.0"
      ]
     },
     "execution_count": 9,
     "metadata": {},
     "output_type": "execute_result"
    }
   ],
   "source": [
    "# Assessment of Coefficients\n",
    "mds = pd.DataFrame(\n",
    "    {'Name':['Slope (alpha)', 'Intercept (beta)'],\n",
    "     'Coefficient': [alpha, beta],\n",
    "     'RSE':[SE_alpha, SE_beta],\n",
    "     't-Statistic':[t_alpha, t_beta],\n",
    "     'p-Value':[p_alpha, p_beta]\n",
    "    }\n",
    ")\n",
    "mds"
   ]
  },
  {
   "cell_type": "code",
   "execution_count": null,
   "metadata": {},
   "outputs": [],
   "source": []
  },
  {
   "cell_type": "markdown",
   "metadata": {},
   "source": [
    "## Model Assessment Summary"
   ]
  },
  {
   "cell_type": "code",
   "execution_count": 10,
   "metadata": {},
   "outputs": [
    {
     "data": {
      "text/html": [
       "<div>\n",
       "<style scoped>\n",
       "    .dataframe tbody tr th:only-of-type {\n",
       "        vertical-align: middle;\n",
       "    }\n",
       "\n",
       "    .dataframe tbody tr th {\n",
       "        vertical-align: top;\n",
       "    }\n",
       "\n",
       "    .dataframe thead th {\n",
       "        text-align: right;\n",
       "    }\n",
       "</style>\n",
       "<table border=\"1\" class=\"dataframe\">\n",
       "  <thead>\n",
       "    <tr style=\"text-align: right;\">\n",
       "      <th></th>\n",
       "      <th>Residual Sum of Squares (RSS)</th>\n",
       "      <th>RSE (Standard Deviation σ)</th>\n",
       "      <th>Total Sum of Squares (TSS)</th>\n",
       "      <th>R2 Statistic</th>\n",
       "    </tr>\n",
       "  </thead>\n",
       "  <tbody>\n",
       "    <tr>\n",
       "      <th>0</th>\n",
       "      <td>59.787851</td>\n",
       "      <td>0.781076</td>\n",
       "      <td>140.102866</td>\n",
       "      <td>0.573257</td>\n",
       "    </tr>\n",
       "  </tbody>\n",
       "</table>\n",
       "</div>"
      ],
      "text/plain": [
       "   Residual Sum of Squares (RSS)  RSE (Standard Deviation σ)  \\\n",
       "0                      59.787851                    0.781076   \n",
       "\n",
       "   Total Sum of Squares (TSS)  R2 Statistic  \n",
       "0                  140.102866      0.573257  "
      ]
     },
     "execution_count": 10,
     "metadata": {},
     "output_type": "execute_result"
    }
   ],
   "source": [
    "# Model Assessment - Storing all key indicators in dummy data frame with range 1\n",
    "ms = pd.DataFrame(\n",
    "    {'Ref': range(0,1),\n",
    "     'Residual Sum of Squares (RSS)': RSS,\n",
    "     'RSE (Standard Deviation σ)': RSE,\n",
    "     'Total Sum of Squares (TSS)': TSS,\n",
    "     'R2 Statistic': R2\n",
    "     }\n",
    ")\n",
    "\n",
    "# Cut out the dummy index column to see the Results\n",
    "ms.iloc[:,1:9]    "
   ]
  },
  {
   "cell_type": "markdown",
   "metadata": {},
   "source": [
    "## Plot Predicted vs Actual vs Sampled Data"
   ]
  },
  {
   "cell_type": "code",
   "execution_count": 11,
   "metadata": {},
   "outputs": [
    {
     "data": {
      "text/plain": [
       "<matplotlib.legend.Legend at 0x7f3055786510>"
      ]
     },
     "execution_count": 11,
     "metadata": {},
     "output_type": "execute_result"
    },
    {
     "data": {
      "image/png": "[encoded data removed]",
      "text/plain": [
       "<Figure size 864x432 with 1 Axes>"
      ]
     },
     "metadata": {
      "needs_background": "light"
     },
     "output_type": "display_data"
    }
   ],
   "source": [
    "\n",
    "# Plot regression against actual data\n",
    "plt.figure(figsize=(12, 6))\n",
    "# Population Regression Line\n",
    "plt.plot(X,rl['RegL'], label = 'Actual (Population Regression Line)',color='green')\n",
    "# Least squares line\n",
    "plt.plot(X, ypred, label = 'Predicted (Least Squares Line)', color='blue')     \n",
    "# scatter plot showing actual data\n",
    "plt.plot(X, y, 'ro', label ='Collected data')   \n",
    "plt.title('Method A - Least Squares - Actual vs Predicted')\n",
    "plt.xlabel('X')\n",
    "plt.ylabel('y')\n",
    "plt.legend()\n",
    "#plt.show()"
   ]
  },
  {
   "cell_type": "markdown",
   "metadata": {},
   "source": [
    "# B. Solve using Matrix Algebra - Fixed data points"
   ]
  },
  {
   "cell_type": "markdown",
   "metadata": {},
   "source": [
    "## Create and Format Data"
   ]
  },
  {
   "cell_type": "code",
   "execution_count": 12,
   "metadata": {},
   "outputs": [],
   "source": [
    "# Reuse the same random inputs created above but reformated to Matrices\n",
    "X1 = np.matrix([np.ones(n), rl['X']]).T\n",
    "y1 = np.matrix(rl['y']).T"
   ]
  },
  {
   "cell_type": "markdown",
   "metadata": {},
   "source": [
    "## Solve for projection matrix"
   ]
  },
  {
   "cell_type": "code",
   "execution_count": 13,
   "metadata": {},
   "outputs": [
    {
     "name": "stdout",
     "output_type": "stream",
     "text": [
      "b (bias/Y intercept) = 2.550315211503549 , and m (slope) = 0.3100701112634194\n"
     ]
    }
   ],
   "source": [
    "A = np.linalg.inv(X1.T.dot(X1)).dot(X1.T).dot(y1)\n",
    "\n",
    "m = A[1].item()\n",
    "b = A[0].item()\n",
    "\n",
    "print(\"b (bias/Y intercept) =\",b,\", and m (slope) =\",m)"
   ]
  },
  {
   "cell_type": "code",
   "execution_count": 14,
   "metadata": {},
   "outputs": [
    {
     "data": {
      "text/plain": [
       "matrix([[0.31007011]])"
      ]
     },
     "execution_count": 14,
     "metadata": {},
     "output_type": "execute_result"
    }
   ],
   "source": [
    "A[1]"
   ]
  },
  {
   "cell_type": "code",
   "execution_count": 15,
   "metadata": {},
   "outputs": [
    {
     "data": {
      "text/plain": [
       "0.3100701112634194"
      ]
     },
     "execution_count": 15,
     "metadata": {},
     "output_type": "execute_result"
    }
   ],
   "source": [
    "m"
   ]
  },
  {
   "cell_type": "code",
   "execution_count": 16,
   "metadata": {},
   "outputs": [
    {
     "data": {
      "text/plain": [
       "2.550315211503549"
      ]
     },
     "execution_count": 16,
     "metadata": {},
     "output_type": "execute_result"
    }
   ],
   "source": [
    "b"
   ]
  },
  {
   "cell_type": "code",
   "execution_count": 17,
   "metadata": {},
   "outputs": [
    {
     "data": {
      "text/plain": [
       "matrix([[6.54224083]])"
      ]
     },
     "execution_count": 17,
     "metadata": {},
     "output_type": "execute_result"
    }
   ],
   "source": [
    "X1[1].T[1]"
   ]
  },
  {
   "cell_type": "code",
   "execution_count": 18,
   "metadata": {},
   "outputs": [],
   "source": [
    "X1_array = np.squeeze(np.asarray(X1[:].T[1]))"
   ]
  },
  {
   "cell_type": "code",
   "execution_count": 19,
   "metadata": {},
   "outputs": [
    {
     "data": {
      "text/plain": [
       "6.542240833926308"
      ]
     },
     "execution_count": 19,
     "metadata": {},
     "output_type": "execute_result"
    }
   ],
   "source": [
    "X1_array[1]"
   ]
  },
  {
   "cell_type": "code",
   "execution_count": 20,
   "metadata": {},
   "outputs": [
    {
     "data": {
      "text/plain": [
       "6.542240833926308"
      ]
     },
     "execution_count": 20,
     "metadata": {},
     "output_type": "execute_result"
    }
   ],
   "source": [
    "X[1]"
   ]
  },
  {
   "cell_type": "code",
   "execution_count": 21,
   "metadata": {},
   "outputs": [
    {
     "data": {
      "text/plain": [
       "1.552591831640501"
      ]
     },
     "execution_count": 21,
     "metadata": {},
     "output_type": "execute_result"
    }
   ],
   "source": [
    "ypred[0]"
   ]
  },
  {
   "cell_type": "markdown",
   "metadata": {},
   "source": [
    "## Plot data and predictions"
   ]
  },
  {
   "cell_type": "code",
   "execution_count": 22,
   "metadata": {},
   "outputs": [],
   "source": [
    "#xx = np.linspace(0, .5, 2)\n",
    "y1pred = b + m * X1"
   ]
  },
  {
   "cell_type": "code",
   "execution_count": 23,
   "metadata": {},
   "outputs": [],
   "source": [
    "y1pred[1].T[1]\n",
    "y1pred_array = np.squeeze(np.asarray(y1pred[:].T[1]))"
   ]
  },
  {
   "cell_type": "code",
   "execution_count": 24,
   "metadata": {},
   "outputs": [
    {
     "data": {
      "text/plain": [
       "matrix([[1.5948685]])"
      ]
     },
     "execution_count": 24,
     "metadata": {},
     "output_type": "execute_result"
    }
   ],
   "source": [
    "y1[0]"
   ]
  },
  {
   "cell_type": "code",
   "execution_count": 25,
   "metadata": {},
   "outputs": [
    {
     "data": {
      "text/plain": [
       "5.087116072290737"
      ]
     },
     "execution_count": 25,
     "metadata": {},
     "output_type": "execute_result"
    }
   ],
   "source": [
    "y1_array = np.squeeze(np.asarray(y1[:]))\n",
    "y1_array[1]"
   ]
  },
  {
   "cell_type": "code",
   "execution_count": 26,
   "metadata": {},
   "outputs": [
    {
     "data": {
      "text/plain": [
       "<matplotlib.legend.Legend at 0x7f3054f714d0>"
      ]
     },
     "execution_count": 26,
     "metadata": {},
     "output_type": "execute_result"
    },
    {
     "data": {
      "text/plain": [
       "<Figure size 432x288 with 0 Axes>"
      ]
     },
     "metadata": {},
     "output_type": "display_data"
    },
    {
     "data": {
      "image/png": "[encoded data removed]",
      "text/plain": [
       "<Figure size 864x432 with 1 Axes>"
      ]
     },
     "metadata": {
      "needs_background": "light"
     },
     "output_type": "display_data"
    }
   ],
   "source": [
    "plt.figure(1)\n",
    "# Plot regression against actual data\n",
    "plt.figure(figsize=(12, 6));\n",
    "# Population Regression Line\n",
    "plt.plot(X1_array,rl['RegL'], label = 'Actual (Population Regression Line)',color='green')\n",
    "# Least squares line\n",
    "plt.plot(X1_array, y1pred_array, label = 'Predicted (Least Squares Line)', color='orange')     \n",
    "# scatter plot showing actual data\n",
    "plt.plot(X1_array, y1_array, 'ro', label ='Collected data')   \n",
    "plt.title('Method B - Normal Equation - Actual vs Predicted')\n",
    "plt.xlabel('X')\n",
    "plt.ylabel('y')\n",
    "plt.legend()\n",
    "#plt.show()\n",
    "\n",
    "\n",
    "#plt.figure(1)\n",
    "#plt.scatter(input[:,0], input[:,1], color='r')\n",
    "#plt.plot(xx, yy.T, color='b')\n",
    "#plt.show()"
   ]
  },
  {
   "cell_type": "code",
   "execution_count": 29,
   "metadata": {},
   "outputs": [
    {
     "data": {
      "text/plain": [
       "(100,)"
      ]
     },
     "execution_count": 29,
     "metadata": {},
     "output_type": "execute_result"
    }
   ],
   "source": [
    "X.shape"
   ]
  },
  {
   "cell_type": "code",
   "execution_count": 63,
   "metadata": {},
   "outputs": [
    {
     "data": {
      "text/plain": [
       "(100, 1)"
      ]
     },
     "execution_count": 63,
     "metadata": {},
     "output_type": "execute_result"
    }
   ],
   "source": [
    "x1=rl['X'].values.reshape(-1, 1)\n",
    "x1.shape"
   ]
  },
  {
   "cell_type": "code",
   "execution_count": 64,
   "metadata": {},
   "outputs": [
    {
     "data": {
      "text/plain": [
       "(100, 1)"
      ]
     },
     "execution_count": 64,
     "metadata": {},
     "output_type": "execute_result"
    }
   ],
   "source": [
    "y1=rl['y'].values.reshape(-1, 1)\n",
    "y1.shape"
   ]
  },
  {
   "cell_type": "code",
   "execution_count": 62,
   "metadata": {},
   "outputs": [
    {
     "data": {
      "text/plain": [
       "array([[-3.21773478],\n",
       "       [ 6.54224083],\n",
       "       [ 6.04674467],\n",
       "       [ 6.58807042],\n",
       "       [ 3.20287027],\n",
       "       [ 0.21505692],\n",
       "       [ 5.97113003],\n",
       "       [ 7.53648557],\n",
       "       [ 0.15950567],\n",
       "       [ 3.71411503],\n",
       "       [ 0.59959959],\n",
       "       [ 2.03819697],\n",
       "       [ 2.40783939],\n",
       "       [ 4.31934853],\n",
       "       [-1.49210045],\n",
       "       [-3.09996767],\n",
       "       [ 2.83250586],\n",
       "       [ 2.2265424 ],\n",
       "       [ 0.31545748],\n",
       "       [ 1.99596981],\n",
       "       [ 0.59684377],\n",
       "       [ 3.9158365 ],\n",
       "       [ 3.41663216],\n",
       "       [-1.78278886],\n",
       "       [ 6.42702178],\n",
       "       [-1.16313385],\n",
       "       [-3.55948015],\n",
       "       [ 3.20380373],\n",
       "       [ 2.5009336 ],\n",
       "       [-1.3499713 ],\n",
       "       [-2.86008123],\n",
       "       [ 3.98790983],\n",
       "       [ 1.90686875],\n",
       "       [ 9.73712972],\n",
       "       [-0.18697477],\n",
       "       [ 1.27495216],\n",
       "       [ 1.68413037],\n",
       "       [-0.82968165],\n",
       "       [ 1.40466519],\n",
       "       [-4.04950668],\n",
       "       [ 3.43030064],\n",
       "       [ 2.83777226],\n",
       "       [ 6.91137665],\n",
       "       [-1.20213701],\n",
       "       [-0.58837816],\n",
       "       [ 3.64689423],\n",
       "       [ 2.39594282],\n",
       "       [ 2.64324378],\n",
       "       [ 1.83736461],\n",
       "       [-3.26950171],\n",
       "       [-0.06522559],\n",
       "       [ 0.91576437],\n",
       "       [ 1.56778323],\n",
       "       [ 0.94978001],\n",
       "       [ 1.55499676],\n",
       "       [ 2.83621514],\n",
       "       [ 2.53876968],\n",
       "       [-0.7717093 ],\n",
       "       [-0.0697165 ],\n",
       "       [ 4.97100036],\n",
       "       [ 5.21237527],\n",
       "       [ 4.08611728],\n",
       "       [ 1.82527988],\n",
       "       [ 0.45894765],\n",
       "       [-2.57019098],\n",
       "       [-0.17273954],\n",
       "       [-2.30666951],\n",
       "       [ 4.54424082],\n",
       "       [-2.43852328],\n",
       "       [ 4.62578172],\n",
       "       [ 5.1314154 ],\n",
       "       [-2.83832367],\n",
       "       [ 3.37443728],\n",
       "       [ 1.76332486],\n",
       "       [ 2.41988412],\n",
       "       [ 3.97558159],\n",
       "       [ 1.12042303],\n",
       "       [ 5.43649297],\n",
       "       [-1.09121608],\n",
       "       [ 1.76266507],\n",
       "       [ 5.50623373],\n",
       "       [ 4.88632471],\n",
       "       [ 4.33286138],\n",
       "       [ 4.12679426],\n",
       "       [ 0.20996884],\n",
       "       [ 3.0689724 ],\n",
       "       [ 1.8404167 ],\n",
       "       [ 0.17918541],\n",
       "       [ 5.42316476],\n",
       "       [ 0.96894729],\n",
       "       [ 2.73198638],\n",
       "       [ 5.01363529],\n",
       "       [-3.53846299],\n",
       "       [ 3.28081038],\n",
       "       [-1.56187348],\n",
       "       [-0.15274124],\n",
       "       [ 4.17337469],\n",
       "       [-2.06411783],\n",
       "       [ 5.37597937],\n",
       "       [-1.28207246]])"
      ]
     },
     "execution_count": 62,
     "metadata": {},
     "output_type": "execute_result"
    }
   ],
   "source": [
    "rl['X'].values.reshape(-1,1)"
   ]
  },
  {
   "cell_type": "markdown",
   "metadata": {},
   "source": [
    "## C. Using SKlearn library"
   ]
  },
  {
   "cell_type": "code",
   "execution_count": 36,
   "metadata": {},
   "outputs": [
    {
     "data": {
      "text/plain": [
       "LinearRegression()"
      ]
     },
     "execution_count": 36,
     "metadata": {},
     "output_type": "execute_result"
    }
   ],
   "source": [
    "from sklearn.linear_model import LinearRegression\n",
    "\n",
    "lr = LinearRegression()\n",
    "lr.fit(X.reshape(-1, 1), y.reshape(-1, 1))"
   ]
  },
  {
   "cell_type": "code",
   "execution_count": 37,
   "metadata": {},
   "outputs": [
    {
     "data": {
      "text/plain": [
       "LinearRegression()"
      ]
     },
     "execution_count": 37,
     "metadata": {},
     "output_type": "execute_result"
    }
   ],
   "source": [
    "lr"
   ]
  },
  {
   "cell_type": "code",
   "execution_count": 53,
   "metadata": {},
   "outputs": [
    {
     "data": {
      "text/plain": [
       "0.3100701112634194"
      ]
     },
     "execution_count": 53,
     "metadata": {},
     "output_type": "execute_result"
    }
   ],
   "source": [
    "lr.coef_[0][0]"
   ]
  },
  {
   "cell_type": "code",
   "execution_count": 55,
   "metadata": {},
   "outputs": [
    {
     "data": {
      "text/plain": [
       "2.5503152115035483"
      ]
     },
     "execution_count": 55,
     "metadata": {},
     "output_type": "execute_result"
    }
   ],
   "source": [
    "lr.intercept_[0]"
   ]
  },
  {
   "cell_type": "code",
   "execution_count": null,
   "metadata": {},
   "outputs": [],
   "source": []
  }
 ],
 "metadata": {
  "kernelspec": {
   "display_name": "Python 3",
   "language": "python",
   "name": "python3"
  },
  "language_info": {
   "codemirror_mode": {
    "name": "ipython",
    "version": 3
   },
   "file_extension": ".py",
   "mimetype": "text/x-python",
   "name": "python",
   "nbconvert_exporter": "python",
   "pygments_lexer": "ipython3",
   "version": "3.7.6"
  }
 },
 "nbformat": 4,
 "nbformat_minor": 2
}
