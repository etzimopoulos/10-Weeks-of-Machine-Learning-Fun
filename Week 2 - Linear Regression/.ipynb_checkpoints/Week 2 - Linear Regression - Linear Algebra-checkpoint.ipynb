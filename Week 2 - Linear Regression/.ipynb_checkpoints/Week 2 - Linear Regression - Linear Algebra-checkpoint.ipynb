{
 "cells": [
  {
   "cell_type": "markdown",
   "metadata": {},
   "source": [
    "# Import Libraries"
   ]
  },
  {
   "cell_type": "code",
   "execution_count": 6,
   "metadata": {},
   "outputs": [],
   "source": [
    "import numpy as np\n",
    "import pandas as pd\n",
    "from numpy import array\n",
    "from numpy.linalg import inv\n",
    "from matplotlib import pyplot as plt\n",
    "from scipy import stats\n",
    "\n"
   ]
  },
  {
   "cell_type": "markdown",
   "metadata": {},
   "source": [
    "# A. Solve using Analytical Calculus - Random data points"
   ]
  },
  {
   "cell_type": "markdown",
   "metadata": {},
   "source": [
    "## Create random X and y samples"
   ]
  },
  {
   "cell_type": "code",
   "execution_count": 7,
   "metadata": {},
   "outputs": [
    {
     "data": {
      "text/html": [
       "<div>\n",
       "<style scoped>\n",
       "    .dataframe tbody tr th:only-of-type {\n",
       "        vertical-align: middle;\n",
       "    }\n",
       "\n",
       "    .dataframe tbody tr th {\n",
       "        vertical-align: top;\n",
       "    }\n",
       "\n",
       "    .dataframe thead th {\n",
       "        text-align: right;\n",
       "    }\n",
       "</style>\n",
       "<table border=\"1\" class=\"dataframe\">\n",
       "  <thead>\n",
       "    <tr style=\"text-align: right;\">\n",
       "      <th></th>\n",
       "      <th>X</th>\n",
       "      <th>y</th>\n",
       "      <th>RegL</th>\n",
       "    </tr>\n",
       "  </thead>\n",
       "  <tbody>\n",
       "    <tr>\n",
       "      <th>0</th>\n",
       "      <td>-1.384003</td>\n",
       "      <td>2.861741</td>\n",
       "      <td>2.015599</td>\n",
       "    </tr>\n",
       "    <tr>\n",
       "      <th>1</th>\n",
       "      <td>0.743149</td>\n",
       "      <td>3.026066</td>\n",
       "      <td>2.760102</td>\n",
       "    </tr>\n",
       "    <tr>\n",
       "      <th>2</th>\n",
       "      <td>-2.835612</td>\n",
       "      <td>1.231363</td>\n",
       "      <td>1.507536</td>\n",
       "    </tr>\n",
       "    <tr>\n",
       "      <th>3</th>\n",
       "      <td>3.884570</td>\n",
       "      <td>3.981601</td>\n",
       "      <td>3.859599</td>\n",
       "    </tr>\n",
       "    <tr>\n",
       "      <th>4</th>\n",
       "      <td>7.292657</td>\n",
       "      <td>5.723315</td>\n",
       "      <td>5.052430</td>\n",
       "    </tr>\n",
       "  </tbody>\n",
       "</table>\n",
       "</div>"
      ],
      "text/plain": [
       "          X         y      RegL\n",
       "0 -1.384003  2.861741  2.015599\n",
       "1  0.743149  3.026066  2.760102\n",
       "2 -2.835612  1.231363  1.507536\n",
       "3  3.884570  3.981601  3.859599\n",
       "4  7.292657  5.723315  5.052430"
      ]
     },
     "execution_count": 7,
     "metadata": {},
     "output_type": "execute_result"
    }
   ],
   "source": [
    "# Generate 'random' data\n",
    "#np.random.seed(1)\n",
    "\n",
    "# Number of Samples\n",
    "n = 100\n",
    "\n",
    "# Create r and r1, random vectors of 100 numbers each with mean = 0 and standard deviation = 1\n",
    "r = np.random.randn(n)\n",
    "r1 = np.random.randn(n)\n",
    "\n",
    "# Create random Input vector X using r\n",
    "# mean = 3\n",
    "# stddev = 2\n",
    "X = 3 * r + 2\n",
    "\n",
    "# Create random Residual term Res using r\n",
    "# mean = 0\n",
    "# stddev = 0.5\n",
    "res = 0.8 * r1 \n",
    "\n",
    "# Generate Y values based on the simulated regression line and error/noise\n",
    "# Population Regression Line\n",
    "yreg = 2.5 + 0.35 * X \n",
    "# Adding noise/error\n",
    "y = yreg + res                  \n",
    "\n",
    "# Storing Population Regression Line \"RegL\", data points X and y in a data frame\n",
    "rl = pd.DataFrame(\n",
    "    {'X': X,\n",
    "     'y': y,\n",
    "     'RegL':yreg}\n",
    ")\n",
    "\n",
    "# Show the first five rows of our dataframe\n",
    "rl.head()"
   ]
  },
  {
   "cell_type": "markdown",
   "metadata": {},
   "source": [
    "## Calculate coefficients alpha and beta"
   ]
  },
  {
   "cell_type": "code",
   "execution_count": 3,
   "metadata": {},
   "outputs": [
    {
     "name": "stdout",
     "output_type": "stream",
     "text": [
      "alpha = 0.3669532867971259\n",
      "beta = 2.396737691040629\n"
     ]
    }
   ],
   "source": [
    "# Assuming y = aX + b\n",
    "# a ~ alpha\n",
    "# b ~ beta\n",
    "\n",
    "# Calculate the mean of X and y\n",
    "xmean = np.mean(X)\n",
    "ymean = np.mean(y)\n",
    "\n",
    "# Calculate the terms needed for the numator and denominator of alpha\n",
    "rl['CovXY'] = (rl['X'] - xmean) * (rl['y'] - ymean)\n",
    "rl['VarX'] = (rl['X'] - xmean)**2\n",
    "\n",
    "# Calculate alpha\n",
    "# Numerator: Covariance between X and y\n",
    "# Denominator: Variance of X\n",
    "alpha = rl['CovXY'].sum() / rl['VarX'].sum()\n",
    "\n",
    "# Calculate beta\n",
    "beta = ymean - (alpha * xmean)\n",
    "print('alpha =', alpha)\n",
    "print('beta =',beta)"
   ]
  },
  {
   "cell_type": "markdown",
   "metadata": {},
   "source": [
    "## Prediction - Least Squares Line"
   ]
  },
  {
   "cell_type": "code",
   "execution_count": 4,
   "metadata": {},
   "outputs": [],
   "source": [
    "ypred = alpha * X + beta"
   ]
  },
  {
   "cell_type": "markdown",
   "metadata": {},
   "source": [
    "## Calculate Model Metrics - RSS, RSE(σ), TSS and R^2 Statistic"
   ]
  },
  {
   "cell_type": "code",
   "execution_count": 5,
   "metadata": {},
   "outputs": [
    {
     "name": "stdout",
     "output_type": "stream",
     "text": [
      "Residual Sum of Squares (RSS) is: 65.39119370627873\n",
      "\n",
      "Residual Standar Error (Standard Deviation σ) is: 0.8168580529293307\n",
      "\n",
      "Total Sum of Squares (TSS) is: 172.47887333492622\n",
      "\n",
      " R2 Statistic is: 0.6208741833598395\n"
     ]
    }
   ],
   "source": [
    "# Residual Errors\n",
    "RE = (rl['y'] - ypred)**2\n",
    "#Residual Sum Squares\n",
    "RSS = RE.sum()\n",
    "print(\"Residual Sum of Squares (RSS) is:\",RSS)\n",
    "\n",
    "# Estimated Standard Variation (sigma) or RSE\n",
    "RSE = np.sqrt(RSS/(n-2))\n",
    "print(\"\\nResidual Standar Error (Standard Deviation σ) is:\",RSE)\n",
    "\n",
    "# Total Sum of squares (TSS)\n",
    "TE = (rl['y'] - ymean)**2\n",
    "# Total Sum Squares\n",
    "TSS = TE.sum()\n",
    "print(\"\\nTotal Sum of Squares (TSS) is:\",TSS)\n",
    "\n",
    "# R^2 Statistic\n",
    "R2 = 1 - RSS/TSS\n",
    "print(\"\\n R2 Statistic is:\",R2)"
   ]
  },
  {
   "cell_type": "markdown",
   "metadata": {},
   "source": [
    "## Assessing Coefficients accuracy"
   ]
  },
  {
   "cell_type": "code",
   "execution_count": 6,
   "metadata": {},
   "outputs": [],
   "source": [
    "# Degrees of freedom\n",
    "df = 2*n - 2\n",
    "\n",
    "# Standard error, t-Statistic and  p-value for Slope \"alpha\" coefficient\n",
    "SE_alpha = np.sqrt(RSE**2/rl['VarX'].sum())\n",
    "t_alpha = alpha/SE_alpha\n",
    "p_alpha = 1 - stats.t.cdf(t_alpha,df=df)\n",
    "\n",
    "# Standard error, t-Statistic and  p-value for Intercept \"beta\" coefficient\n",
    "SE_beta = np.sqrt(RSE*(1/n + xmean**2/(rl['VarX'].sum())))\n",
    "t_beta = beta/SE_beta \n",
    "p_beta = 1 - stats.t.cdf(t_beta,df=df)"
   ]
  },
  {
   "cell_type": "markdown",
   "metadata": {},
   "source": [
    "## Coefficients Assessment Summary"
   ]
  },
  {
   "cell_type": "code",
   "execution_count": 7,
   "metadata": {},
   "outputs": [
    {
     "data": {
      "text/html": [
       "<div>\n",
       "<style scoped>\n",
       "    .dataframe tbody tr th:only-of-type {\n",
       "        vertical-align: middle;\n",
       "    }\n",
       "\n",
       "    .dataframe tbody tr th {\n",
       "        vertical-align: top;\n",
       "    }\n",
       "\n",
       "    .dataframe thead th {\n",
       "        text-align: right;\n",
       "    }\n",
       "</style>\n",
       "<table border=\"1\" class=\"dataframe\">\n",
       "  <thead>\n",
       "    <tr style=\"text-align: right;\">\n",
       "      <th></th>\n",
       "      <th>Name</th>\n",
       "      <th>Coefficient</th>\n",
       "      <th>RSE</th>\n",
       "      <th>t-Statistic</th>\n",
       "      <th>p-Value</th>\n",
       "    </tr>\n",
       "  </thead>\n",
       "  <tbody>\n",
       "    <tr>\n",
       "      <th>0</th>\n",
       "      <td>Slope (alpha)</td>\n",
       "      <td>0.366953</td>\n",
       "      <td>0.028966</td>\n",
       "      <td>12.668441</td>\n",
       "      <td>0.0</td>\n",
       "    </tr>\n",
       "    <tr>\n",
       "      <th>1</th>\n",
       "      <td>Intercept (beta)</td>\n",
       "      <td>2.396738</td>\n",
       "      <td>0.118093</td>\n",
       "      <td>20.295292</td>\n",
       "      <td>0.0</td>\n",
       "    </tr>\n",
       "  </tbody>\n",
       "</table>\n",
       "</div>"
      ],
      "text/plain": [
       "               Name  Coefficient       RSE  t-Statistic  p-Value\n",
       "0     Slope (alpha)     0.366953  0.028966    12.668441      0.0\n",
       "1  Intercept (beta)     2.396738  0.118093    20.295292      0.0"
      ]
     },
     "execution_count": 7,
     "metadata": {},
     "output_type": "execute_result"
    }
   ],
   "source": [
    "# Assessment of Coefficients\n",
    "mds = pd.DataFrame(\n",
    "    {'Name':['Slope (alpha)', 'Intercept (beta)'],\n",
    "     'Coefficient': [alpha, beta],\n",
    "     'RSE':[SE_alpha, SE_beta],\n",
    "     't-Statistic':[t_alpha, t_beta],\n",
    "     'p-Value':[p_alpha, p_beta]\n",
    "    }\n",
    ")\n",
    "mds"
   ]
  },
  {
   "cell_type": "code",
   "execution_count": null,
   "metadata": {},
   "outputs": [],
   "source": []
  },
  {
   "cell_type": "markdown",
   "metadata": {},
   "source": [
    "## Model Assessment Summary"
   ]
  },
  {
   "cell_type": "code",
   "execution_count": 8,
   "metadata": {},
   "outputs": [
    {
     "data": {
      "text/html": [
       "<div>\n",
       "<style scoped>\n",
       "    .dataframe tbody tr th:only-of-type {\n",
       "        vertical-align: middle;\n",
       "    }\n",
       "\n",
       "    .dataframe tbody tr th {\n",
       "        vertical-align: top;\n",
       "    }\n",
       "\n",
       "    .dataframe thead th {\n",
       "        text-align: right;\n",
       "    }\n",
       "</style>\n",
       "<table border=\"1\" class=\"dataframe\">\n",
       "  <thead>\n",
       "    <tr style=\"text-align: right;\">\n",
       "      <th></th>\n",
       "      <th>Residual Sum of Squares (RSS)</th>\n",
       "      <th>RSE (Standard Deviation σ)</th>\n",
       "      <th>Total Sum of Squares (TSS)</th>\n",
       "      <th>R2 Statistic</th>\n",
       "    </tr>\n",
       "  </thead>\n",
       "  <tbody>\n",
       "    <tr>\n",
       "      <th>0</th>\n",
       "      <td>65.391194</td>\n",
       "      <td>0.816858</td>\n",
       "      <td>172.478873</td>\n",
       "      <td>0.620874</td>\n",
       "    </tr>\n",
       "  </tbody>\n",
       "</table>\n",
       "</div>"
      ],
      "text/plain": [
       "   Residual Sum of Squares (RSS)  RSE (Standard Deviation σ)  \\\n",
       "0                      65.391194                    0.816858   \n",
       "\n",
       "   Total Sum of Squares (TSS)  R2 Statistic  \n",
       "0                  172.478873      0.620874  "
      ]
     },
     "execution_count": 8,
     "metadata": {},
     "output_type": "execute_result"
    }
   ],
   "source": [
    "# Model Assessment - Storing all key indicators in dummy data frame with range 1\n",
    "ms = pd.DataFrame(\n",
    "    {'Ref': range(0,1),\n",
    "     'Residual Sum of Squares (RSS)': RSS,\n",
    "     'RSE (Standard Deviation σ)': RSE,\n",
    "     'Total Sum of Squares (TSS)': TSS,\n",
    "     'R2 Statistic': R2\n",
    "     }\n",
    ")\n",
    "\n",
    "# Cut out the dummy index column to see the Results\n",
    "ms.iloc[:,1:9]    "
   ]
  },
  {
   "cell_type": "markdown",
   "metadata": {},
   "source": [
    "## Plot Predicted vs Actual vs Sampled Data"
   ]
  },
  {
   "cell_type": "code",
   "execution_count": 9,
   "metadata": {},
   "outputs": [
    {
     "data": {
      "image/png": "[encoded data removed]",
      "text/plain": [
       "<Figure size 864x432 with 1 Axes>"
      ]
     },
     "metadata": {
      "needs_background": "light"
     },
     "output_type": "display_data"
    }
   ],
   "source": [
    "\n",
    "# Plot regression against actual data\n",
    "plt.figure(figsize=(12, 6))\n",
    "# Population Regression Line\n",
    "plt.plot(X,rl['RegL'], label = 'Actual (Population Regression Line)',color='green')\n",
    "# Least squares line\n",
    "plt.plot(X, ypred, label = 'Predicted (Least Squares Line)', color='blue')     \n",
    "# scatter plot showing actual data\n",
    "plt.plot(X, y, 'ro', label ='Collected data')   \n",
    "plt.title('Actual vs Predicted')\n",
    "plt.xlabel('X')\n",
    "plt.ylabel('y')\n",
    "plt.legend()\n",
    "plt.show()"
   ]
  },
  {
   "cell_type": "markdown",
   "metadata": {},
   "source": [
    "# B. Solve using Matrix Algebra - Fixed data points"
   ]
  },
  {
   "cell_type": "markdown",
   "metadata": {},
   "source": [
    "## Create and Format Data"
   ]
  },
  {
   "cell_type": "code",
   "execution_count": 10,
   "metadata": {},
   "outputs": [],
   "source": [
    "# Reuse the same random inputs created above but reformated to Matrices\n",
    "X1 = np.matrix([np.ones(n), rl['X']]).T\n",
    "y1 = np.matrix(rl['y']).T"
   ]
  },
  {
   "cell_type": "markdown",
   "metadata": {},
   "source": [
    "## Solve for projection matrix"
   ]
  },
  {
   "cell_type": "code",
   "execution_count": 11,
   "metadata": {},
   "outputs": [
    {
     "name": "stdout",
     "output_type": "stream",
     "text": [
      "b (bias/Y intercept) = 2.396737691040628 , and m (slope) = 0.3669532867971259\n"
     ]
    }
   ],
   "source": [
    "A = np.linalg.inv(X1.T.dot(X1)).dot(X1.T).dot(y1)\n",
    "\n",
    "m = np.asscalar(A[1])\n",
    "b = np.asscalar(A[0])\n",
    "\n",
    "print(\"b (bias/Y intercept) =\",b,\", and m (slope) =\",m)"
   ]
  },
  {
   "cell_type": "markdown",
   "metadata": {},
   "source": [
    "## Plot data and predictions"
   ]
  },
  {
   "cell_type": "code",
   "execution_count": 12,
   "metadata": {},
   "outputs": [],
   "source": [
    "#xx = np.linspace(0, .5, 2)\n",
    "y1pred = b + m * X"
   ]
  },
  {
   "cell_type": "code",
   "execution_count": 13,
   "metadata": {},
   "outputs": [
    {
     "data": {
      "image/png": "[encoded data removed]",
      "text/plain": [
       "<Figure size 864x432 with 1 Axes>"
      ]
     },
     "metadata": {
      "needs_background": "light"
     },
     "output_type": "display_data"
    }
   ],
   "source": [
    "# Plot regression against actual data\n",
    "plt.figure(figsize=(12, 6))\n",
    "# Population Regression Line\n",
    "plt.plot(X,rl['RegL'], label = 'Actual (Population Regression Line)',color='green')\n",
    "# Least squares line\n",
    "plt.plot(X, y1pred, label = 'Predicted (Least Squares Line)', color='blue')     \n",
    "# scatter plot showing actual data\n",
    "plt.plot(X, y, 'ro', label ='Collected data')   \n",
    "plt.title('Actual vs Predicted')\n",
    "plt.xlabel('X')\n",
    "plt.ylabel('y')\n",
    "plt.legend()\n",
    "plt.show()\n",
    "\n",
    "\n",
    "#plt.figure(1)\n",
    "#plt.scatter(input[:,0], input[:,1], color='r')\n",
    "#plt.plot(xx, yy.T, color='b')\n",
    "#plt.show()"
   ]
  },
  {
   "cell_type": "code",
   "execution_count": null,
   "metadata": {},
   "outputs": [],
   "source": []
  }
 ],
 "metadata": {
  "kernelspec": {
   "display_name": "Python 3",
   "language": "python",
   "name": "python3"
  },
  "language_info": {
   "codemirror_mode": {
    "name": "ipython",
    "version": 3
   },
   "file_extension": ".py",
   "mimetype": "text/x-python",
   "name": "python",
   "nbconvert_exporter": "python",
   "pygments_lexer": "ipython3",
   "version": "3.7.3"
  }
 },
 "nbformat": 4,
 "nbformat_minor": 2
}
