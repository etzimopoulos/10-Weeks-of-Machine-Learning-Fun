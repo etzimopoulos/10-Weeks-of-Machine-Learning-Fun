{
 "cells": [
  {
   "cell_type": "markdown",
   "metadata": {},
   "source": [
    "# Logistic Regression using Single Layer Perceptron NN"
   ]
  },
  {
   "cell_type": "markdown",
   "metadata": {},
   "source": [
    "## Import Libraries"
   ]
  },
  {
   "cell_type": "code",
   "execution_count": 1,
   "metadata": {},
   "outputs": [],
   "source": [
    "%matplotlib inline\n",
    "import numpy as np\n",
    "import pandas as pd\n",
    "import matplotlib.pyplot as plt\n",
    "import seaborn as sns\n",
    "#from ggplot import *\n",
    "from sklearn.linear_model import LogisticRegression\n",
    "from sklearn import datasets\n",
    "from sklearn import metrics\n",
    "#from pandas_ml import ConfusionMatrix\n"
   ]
  },
  {
   "cell_type": "markdown",
   "metadata": {},
   "source": [
    "## Import Data"
   ]
  },
  {
   "cell_type": "code",
   "execution_count": 2,
   "metadata": {},
   "outputs": [
    {
     "data": {
      "text/plain": [
       "(150,)"
      ]
     },
     "execution_count": 2,
     "metadata": {},
     "output_type": "execute_result"
    }
   ],
   "source": [
    "from sklearn import datasets\n",
    "iris = datasets.load_iris()\n",
    "X = iris.data[:, :2]\n",
    "y = (iris.target != 0) * 1\n",
    "\n",
    "#y = np.atleast_2d(y_temp).T\n",
    "y.shape\n",
    "\n",
    "#iris.to_csv('iris.csv')"
   ]
  },
  {
   "cell_type": "code",
   "execution_count": 3,
   "metadata": {},
   "outputs": [
    {
     "data": {
      "text/plain": [
       "(150, 2)"
      ]
     },
     "execution_count": 3,
     "metadata": {},
     "output_type": "execute_result"
    }
   ],
   "source": [
    "X.shape\n",
    "#type(X)"
   ]
  },
  {
   "cell_type": "markdown",
   "metadata": {},
   "source": [
    "# Plot functions"
   ]
  },
  {
   "cell_type": "code",
   "execution_count": 4,
   "metadata": {},
   "outputs": [],
   "source": [
    "def plot_scatter(X, y):\n",
    "    plt.figure(figsize=(10, 6))\n",
    "    plt.scatter(X[y == 0][:, 0], X[y == 0][:, 1], color='b', label='0')\n",
    "    plt.scatter(X[y == 1][:, 0], X[y == 1][:, 1], color='r', label='1')\n",
    "    plt.legend();"
   ]
  },
  {
   "cell_type": "code",
   "execution_count": 5,
   "metadata": {},
   "outputs": [],
   "source": [
    "def plot_withline(X,y,SPNN):\n",
    "    plt.figure(figsize=(10, 6))\n",
    "    plt.scatter(X[y == 0][:, 0], X[y == 0][:, 1], color='b', label='0')\n",
    "    plt.scatter(X[y == 1][:, 0], X[y == 1][:, 1], color='r', label='1')\n",
    "    plt.legend()\n",
    "    x1_min, x1_max = X[:,0].min(), X[:,0].max(),\n",
    "    x2_min, x2_max = X[:,1].min(), X[:,1].max(),\n",
    "    xx1, xx2 = np.meshgrid(np.linspace(x1_min, x1_max), np.linspace(x2_min, x2_max))\n",
    "    grid = np.c_[xx1.ravel(), xx2.ravel()]\n",
    "    probs = SPNN.classify(grid).reshape(xx1.shape)\n",
    "    plt.contour(xx1, xx2, probs, [0.5], linewidths=1, colors='black');"
   ]
  },
  {
   "cell_type": "markdown",
   "metadata": {},
   "source": [
    "## Logistic Regression function using SPNN"
   ]
  },
  {
   "cell_type": "code",
   "execution_count": 6,
   "metadata": {},
   "outputs": [],
   "source": [
    "class LogisticRegressionSinglePerceptronModel(object):\n",
    "    def __init__(self, eta, inputL, outputL):\n",
    "\n",
    "        # Define NN structure parameters\n",
    "        self.inputLayer = inputL\n",
    "        self.outputLayer = outputL\n",
    "        self.eta = eta\n",
    "        \n",
    "        # Initialise random weights based on NN structure\n",
    "        # self.w = np.random.random((self.inputLayer, self.outputLayer))\n",
    "        self.w = np.random.random(self.inputLayer)\n",
    "        \n",
    "        # Initialise with bias column\n",
    "        # self.w = np.random.random((self.inputLayer+1, self.outputLayer))\n",
    "        \n",
    "        # Initialise Weights Learning lists to keep track of weights learning curve\n",
    "        self.w_list = []\n",
    "        self.w_curve = []\n",
    "\n",
    "        # Initialise Error list to keep track of Error learning curve\n",
    "        self.E = []\n",
    "    \n",
    "    # Function to add the bias term of ones to the input (Bias or Intercept)\n",
    "    def add_bias(self, X):\n",
    "        bias = np.ones((X.shape[0], 1))\n",
    "        return np.concatenate((bias, X), axis=1)\n",
    "    \n",
    "    \n",
    "    def sigmoidplus(self, x, derivative=False):\n",
    "        if derivative:\n",
    "            return x * (1 - x)\n",
    "        return 1 / (1 + np.exp(-x))\n",
    "    \n",
    "    def sigmoid(self, x):\n",
    "        return 1 / (1 + np.exp(-x))\n",
    "    \n",
    "    # Defininig the Cost function J(θ) (or else the Error) to minimise:\n",
    "    # Here using the Cross Entropy function\n",
    "    def error(self,h, y):\n",
    "        error = (-y * np.log(h) - (1 - y) * np.log(1 - h)).mean()\n",
    "        #print('local error: ', error)\n",
    "        self.E = np.append(self.E, error)\n",
    "                       \n",
    "            \n",
    "    def feedforward(self,X):\n",
    "        z = np.dot(X, self.w)\n",
    "        h = self.sigmoid(z)\n",
    "        return(h)\n",
    "      \n",
    "    def backprop(self,X,y,h):\n",
    "        # Backpropagation for Single Perceptron using chain rule\n",
    "        # dE/dw = dE/dh * dh/dz * dz/dw\n",
    "        #          (1)     (2)     (3)\n",
    "        #\n",
    "        # Term (1) - dE/dh\n",
    "        # dE/dh: Partial derivative of the cost function J(Θ) towards h \n",
    "        #        (derived manually using simple derivatives rules)\n",
    "        #        (y-h) / (h*(1-h))\n",
    "        #\n",
    "        # Term (2) - dh/dz \n",
    "        # dh/dz: Derivative of Activation function (Sigmoid here)\n",
    "        #        h*(1-h)\n",
    "        # \n",
    "        # Term (3) - dz/dw\n",
    "        # dz/dw: Input X\n",
    "        # \n",
    "        # Final Result: dE/dw = (y-h)*X\n",
    "        self.delta_E_w = np.dot(X.T,h-y) / self.outputLayer\n",
    "        \n",
    "        # Store All weights throughout learning\n",
    "        self.w_list.append(self.w)\n",
    "        \n",
    "        # Adjust weights\n",
    "        self.w = self.w - eta * self.delta_E_w\n",
    "        \n",
    "    def returnWeights(self):\n",
    "        return self.w\n",
    "        \n",
    "    def train(self,X,y):\n",
    "        for epoch in range(epochs):\n",
    "            # Forward pass\n",
    "            h = self.feedforward(X)\n",
    "            \n",
    "            # Backpropagation - Calculate Weight adjustments and update weights\n",
    "            self.backprop(X,y,h)\n",
    "            \n",
    "            # Calculate error based on the Cross Entropy Loss function\n",
    "            self.error(h, y)\n",
    "               \n",
    "    def plot(self):\n",
    "        fig = plt.figure()\n",
    "        plt.plot(self.E)\n",
    "        \n",
    "        fig.suptitle('Error', fontsize=16)\n",
    "        plt.xlabel('Epochs', fontsize=12)\n",
    "        plt.ylabel('Error achieved', fontsize=12)\n",
    "        \n",
    "        plt.show()\n",
    "    \n",
    "    def predict(self, X):\n",
    "        # Forward pass\n",
    "        pred = self.feedforward(X)\n",
    "        return pred\n",
    "    \n",
    "    def classify(self, y):\n",
    "        return self.predict(y).round()\n",
    "        "
   ]
  },
  {
   "cell_type": "code",
   "execution_count": null,
   "metadata": {},
   "outputs": [],
   "source": []
  },
  {
   "cell_type": "code",
   "execution_count": 7,
   "metadata": {},
   "outputs": [
    {
     "data": {
      "text/plain": [
       "(150, 2)"
      ]
     },
     "execution_count": 7,
     "metadata": {},
     "output_type": "execute_result"
    }
   ],
   "source": [
    "X.shape\n",
    "#X.shape[1]"
   ]
  },
  {
   "cell_type": "code",
   "execution_count": 8,
   "metadata": {},
   "outputs": [
    {
     "data": {
      "image/png": "[encoded data removed]",
      "text/plain": [
       "<Figure size 720x432 with 1 Axes>"
      ]
     },
     "metadata": {
      "needs_background": "light"
     },
     "output_type": "display_data"
    }
   ],
   "source": [
    "plot_scatter(X,y)"
   ]
  },
  {
   "cell_type": "code",
   "execution_count": 9,
   "metadata": {},
   "outputs": [
    {
     "data": {
      "text/plain": [
       "150"
      ]
     },
     "execution_count": 9,
     "metadata": {},
     "output_type": "execute_result"
    }
   ],
   "source": [
    "y.size"
   ]
  },
  {
   "cell_type": "code",
   "execution_count": 10,
   "metadata": {},
   "outputs": [
    {
     "data": {
      "text/plain": [
       "array([0, 0, 0, 0, 0, 0, 0, 0, 0, 0, 0, 0, 0, 0, 0, 0, 0, 0, 0, 0, 0, 0,\n",
       "       0, 0, 0, 0, 0, 0, 0, 0, 0, 0, 0, 0, 0, 0, 0, 0, 0, 0, 0, 0, 0, 0,\n",
       "       0, 0, 0, 0, 0, 0, 1, 1, 1, 1, 1, 1, 1, 1, 1, 1, 1, 1, 1, 1, 1, 1,\n",
       "       1, 1, 1, 1, 1, 1, 1, 1, 1, 1, 1, 1, 1, 1, 1, 1, 1, 1, 1, 1, 1, 1,\n",
       "       1, 1, 1, 1, 1, 1, 1, 1, 1, 1, 1, 1, 1, 1, 1, 1, 1, 1, 1, 1, 1, 1,\n",
       "       1, 1, 1, 1, 1, 1, 1, 1, 1, 1, 1, 1, 1, 1, 1, 1, 1, 1, 1, 1, 1, 1,\n",
       "       1, 1, 1, 1, 1, 1, 1, 1, 1, 1, 1, 1, 1, 1, 1, 1, 1, 1])"
      ]
     },
     "execution_count": 10,
     "metadata": {},
     "output_type": "execute_result"
    }
   ],
   "source": [
    "y.shape\n",
    "y"
   ]
  },
  {
   "cell_type": "markdown",
   "metadata": {},
   "source": [
    "## Define Parameters"
   ]
  },
  {
   "cell_type": "code",
   "execution_count": 11,
   "metadata": {},
   "outputs": [],
   "source": [
    "# Learning Rate\n",
    "eta = 0.0005\n",
    "\n",
    "# Number of epochs for learning\n",
    "epochs = 3000\n",
    "\n",
    "# Input layer\n",
    "inputLayer = X.shape[1]\n",
    "\n",
    "# Output Layer\n",
    "outputLayer = 1\n",
    "#y.shape[1]"
   ]
  },
  {
   "cell_type": "markdown",
   "metadata": {},
   "source": [
    "## NN training"
   ]
  },
  {
   "cell_type": "code",
   "execution_count": 12,
   "metadata": {},
   "outputs": [
    {
     "name": "stdout",
     "output_type": "stream",
     "text": [
      "Wall time: 96.7 ms\n"
     ]
    },
    {
     "data": {
      "image/png": "[encoded data removed]",
      "text/plain": [
       "<Figure size 432x288 with 1 Axes>"
      ]
     },
     "metadata": {
      "needs_background": "light"
     },
     "output_type": "display_data"
    },
    {
     "name": "stdout",
     "output_type": "stream",
     "text": [
      "Minimum Error achieved: 0.06024015146360526\n"
     ]
    },
    {
     "data": {
      "image/png": "[encoded data removed]",
      "text/plain": [
       "<Figure size 720x432 with 1 Axes>"
      ]
     },
     "metadata": {
      "needs_background": "light"
     },
     "output_type": "display_data"
    }
   ],
   "source": [
    "# Initiate Single Perceptron NN\n",
    "SPNN = LogisticRegressionSinglePerceptronModel(eta, inputLayer, outputLayer)\n",
    "\n",
    "# Train SPNN for Linear Regression Model\n",
    "#%time SPNN.train(X_train, y_train)\n",
    "%time SPNN.train(X, y)\n",
    "\n",
    "# Plot Error\n",
    "SPNN.plot()\n",
    "\n",
    "# Predict output based on test set\n",
    "pred = SPNN.predict(X)\n",
    "\n",
    "# Generate classified output\n",
    "pred2 = SPNN.classify(X)\n",
    "\n",
    "# Assess Model accuracy\n",
    "print(\"Minimum Error achieved:\", min(SPNN.E)) \n",
    "\n",
    "# SPNN weights\n",
    "SPNN.w\n",
    "\n",
    "# Visualisation prediction line\n",
    "plot_withline(X,y,SPNN)\n",
    "# Plot Predictions\n",
    "# plt.plot(X,pred)"
   ]
  },
  {
   "cell_type": "code",
   "execution_count": 13,
   "metadata": {},
   "outputs": [
    {
     "data": {
      "text/plain": [
       "[array([0, 0, 0, 0, 0, 0, 0, 0, 0, 0, 0, 0, 0, 0, 0, 0, 0, 0, 0, 0, 0, 0,\n",
       "        0, 0, 0, 0, 0, 0, 0, 0, 0, 0, 0, 0, 0, 0, 0, 0, 0, 0, 0, 0, 0, 0,\n",
       "        0, 0, 0, 0, 0, 0, 1, 1, 1, 1, 1, 1, 1, 1, 1, 1, 1, 1, 1, 1, 1, 1,\n",
       "        1, 1, 1, 1, 1, 1, 1, 1, 1, 1, 1, 1, 1, 1, 1, 1, 1, 1, 1, 1, 1, 1,\n",
       "        1, 1, 1, 1, 1, 1, 1, 1, 1, 1, 1, 1, 1, 1, 1, 1, 1, 1, 1, 1, 1, 1,\n",
       "        1, 1, 1, 1, 1, 1, 1, 1, 1, 1, 1, 1, 1, 1, 1, 1, 1, 1, 1, 1, 1, 1,\n",
       "        1, 1, 1, 1, 1, 1, 1, 1, 1, 1, 1, 1, 1, 1, 1, 1, 1, 1]),\n",
       " array([0., 0., 0., 0., 0., 0., 0., 0., 0., 0., 0., 0., 0., 0., 0., 0., 0.,\n",
       "        0., 0., 0., 0., 0., 0., 0., 0., 0., 0., 0., 0., 0., 0., 0., 0., 0.,\n",
       "        0., 0., 0., 0., 0., 0., 0., 1., 0., 0., 0., 0., 0., 0., 0., 0., 1.,\n",
       "        1., 1., 1., 1., 1., 1., 1., 1., 1., 1., 1., 1., 1., 1., 1., 1., 1.,\n",
       "        1., 1., 1., 1., 1., 1., 1., 1., 1., 1., 1., 1., 1., 1., 1., 1., 1.,\n",
       "        1., 1., 1., 1., 1., 1., 1., 1., 1., 1., 1., 1., 1., 1., 1., 1., 1.,\n",
       "        1., 1., 1., 1., 1., 1., 1., 1., 1., 1., 1., 1., 1., 1., 1., 1., 1.,\n",
       "        1., 1., 1., 1., 1., 1., 1., 1., 1., 1., 1., 1., 1., 1., 1., 1., 1.,\n",
       "        1., 1., 1., 1., 1., 1., 1., 1., 1., 1., 1., 1., 1., 1.])]"
      ]
     },
     "execution_count": 13,
     "metadata": {},
     "output_type": "execute_result"
    }
   ],
   "source": [
    "[y, pred2]"
   ]
  },
  {
   "cell_type": "markdown",
   "metadata": {},
   "source": [
    "# Model evaluation"
   ]
  },
  {
   "cell_type": "code",
   "execution_count": 14,
   "metadata": {},
   "outputs": [
    {
     "name": "stdout",
     "output_type": "stream",
     "text": [
      "[[ 49   1]\n",
      " [  0 100]]\n"
     ]
    }
   ],
   "source": [
    "from sklearn import metrics\n",
    "# Print Confusion Matrix\n",
    "print (metrics.confusion_matrix(y, pred2))"
   ]
  },
  {
   "cell_type": "code",
   "execution_count": 15,
   "metadata": {},
   "outputs": [
    {
     "name": "stdout",
     "output_type": "stream",
     "text": [
      "              precision    recall  f1-score   support\n",
      "\n",
      "           0       1.00      0.98      0.99        50\n",
      "           1       0.99      1.00      1.00       100\n",
      "\n",
      "    accuracy                           0.99       150\n",
      "   macro avg       1.00      0.99      0.99       150\n",
      "weighted avg       0.99      0.99      0.99       150\n",
      "\n"
     ]
    }
   ],
   "source": [
    "print (metrics.classification_report(y, pred2))"
   ]
  }
 ],
 "metadata": {
  "kernelspec": {
   "display_name": "Python 3",
   "language": "python",
   "name": "python3"
  },
  "language_info": {
   "codemirror_mode": {
    "name": "ipython",
    "version": 3
   },
   "file_extension": ".py",
   "mimetype": "text/x-python",
   "name": "python",
   "nbconvert_exporter": "python",
   "pygments_lexer": "ipython3",
   "version": "3.7.3"
  }
 },
 "nbformat": 4,
 "nbformat_minor": 2
}
